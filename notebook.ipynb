{
  "cells": [
    {
      "cell_type": "markdown",
      "metadata": {
        "id": "H9wADwK78DCz"
      },
      "source": [
        "# Proyek Analisis Data: Bike Sharing Dataset\n",
        "- **Nama:** Anas Banta Seutia\n",
        "- **Email:** M008D4KY1922@bangkit.academy\n",
        "- **ID Dicoding:** M008D4KY1922"
      ]
    },
    {
      "cell_type": "markdown",
      "metadata": {
        "id": "eE0raob58DC0"
      },
      "source": [
        "## Menentukan Pertanyaan Bisnis"
      ]
    },
    {
      "cell_type": "markdown",
      "metadata": {
        "id": "GmQeQ5YF8DC0"
      },
      "source": [
        "- At what day of the year or time of day do pedestrians used shared bikes more often than not?\n",
        "- What might be the cause of pedestrians using shared bikes?"
      ]
    },
    {
      "cell_type": "markdown",
      "metadata": {
        "id": "H-z4QGlO8DC1"
      },
      "source": [
        "## Import Semua Packages/Library yang Digunakan"
      ]
    },
    {
      "cell_type": "code",
      "execution_count": 1,
      "metadata": {
        "id": "FVYwaObI8DC1"
      },
      "outputs": [],
      "source": [
        "import pandas as pd\n",
        "import numpy as np\n",
        "import matplotlib.pyplot as plt\n",
        "import seaborn as sns"
      ]
    },
    {
      "cell_type": "markdown",
      "metadata": {
        "id": "h_Sh51Xy8DC1"
      },
      "source": [
        "## Data Wrangling"
      ]
    },
    {
      "cell_type": "markdown",
      "metadata": {
        "id": "sXU2GBYu8DC1"
      },
      "source": [
        "### Gathering Data"
      ]
    },
    {
      "cell_type": "code",
      "execution_count": 2,
      "metadata": {
        "colab": {
          "base_uri": "https://localhost:8080/"
        },
        "id": "zjCBk1BI8DC1",
        "outputId": "1dd7a779-88dd-4d1e-bed6-62a4ef49e5ab"
      },
      "outputs": [],
      "source": [
        "project_dir = \".\"\n",
        "dataset_dir = project_dir + \"/data\"\n",
        "daily_dataset = dataset_dir + \"/day.csv\"\n",
        "hourly_dataset =  dataset_dir + \"/hour.csv\""
      ]
    },
    {
      "cell_type": "code",
      "execution_count": 3,
      "metadata": {
        "id": "8lq-1uGW1Q0B"
      },
      "outputs": [],
      "source": [
        "daily_df = pd.read_csv(daily_dataset, delimiter=\",\")\n",
        "hourly_df = pd.read_csv(hourly_dataset, delimiter=\",\")"
      ]
    },
    {
      "cell_type": "markdown",
      "metadata": {
        "id": "FHSiqaZp8DC1"
      },
      "source": [
        "### Assessing Data"
      ]
    },
    {
      "cell_type": "code",
      "execution_count": 4,
      "metadata": {
        "colab": {
          "base_uri": "https://localhost:8080/",
          "height": 0
        },
        "id": "Di2GpXEE7S-c",
        "outputId": "e03c2387-2c73-4381-be3e-16c50f403912"
      },
      "outputs": [
        {
          "data": {
            "text/html": [
              "<div>\n",
              "<style scoped>\n",
              "    .dataframe tbody tr th:only-of-type {\n",
              "        vertical-align: middle;\n",
              "    }\n",
              "\n",
              "    .dataframe tbody tr th {\n",
              "        vertical-align: top;\n",
              "    }\n",
              "\n",
              "    .dataframe thead th {\n",
              "        text-align: right;\n",
              "    }\n",
              "</style>\n",
              "<table border=\"1\" class=\"dataframe\">\n",
              "  <thead>\n",
              "    <tr style=\"text-align: right;\">\n",
              "      <th></th>\n",
              "      <th>instant</th>\n",
              "      <th>dteday</th>\n",
              "      <th>season</th>\n",
              "      <th>yr</th>\n",
              "      <th>mnth</th>\n",
              "      <th>holiday</th>\n",
              "      <th>weekday</th>\n",
              "      <th>workingday</th>\n",
              "      <th>weathersit</th>\n",
              "      <th>temp</th>\n",
              "      <th>atemp</th>\n",
              "      <th>hum</th>\n",
              "      <th>windspeed</th>\n",
              "      <th>casual</th>\n",
              "      <th>registered</th>\n",
              "      <th>cnt</th>\n",
              "    </tr>\n",
              "  </thead>\n",
              "  <tbody>\n",
              "    <tr>\n",
              "      <th>0</th>\n",
              "      <td>1</td>\n",
              "      <td>2011-01-01</td>\n",
              "      <td>1</td>\n",
              "      <td>0</td>\n",
              "      <td>1</td>\n",
              "      <td>0</td>\n",
              "      <td>6</td>\n",
              "      <td>0</td>\n",
              "      <td>2</td>\n",
              "      <td>0.344167</td>\n",
              "      <td>0.363625</td>\n",
              "      <td>0.805833</td>\n",
              "      <td>0.160446</td>\n",
              "      <td>331</td>\n",
              "      <td>654</td>\n",
              "      <td>985</td>\n",
              "    </tr>\n",
              "    <tr>\n",
              "      <th>1</th>\n",
              "      <td>2</td>\n",
              "      <td>2011-01-02</td>\n",
              "      <td>1</td>\n",
              "      <td>0</td>\n",
              "      <td>1</td>\n",
              "      <td>0</td>\n",
              "      <td>0</td>\n",
              "      <td>0</td>\n",
              "      <td>2</td>\n",
              "      <td>0.363478</td>\n",
              "      <td>0.353739</td>\n",
              "      <td>0.696087</td>\n",
              "      <td>0.248539</td>\n",
              "      <td>131</td>\n",
              "      <td>670</td>\n",
              "      <td>801</td>\n",
              "    </tr>\n",
              "    <tr>\n",
              "      <th>2</th>\n",
              "      <td>3</td>\n",
              "      <td>2011-01-03</td>\n",
              "      <td>1</td>\n",
              "      <td>0</td>\n",
              "      <td>1</td>\n",
              "      <td>0</td>\n",
              "      <td>1</td>\n",
              "      <td>1</td>\n",
              "      <td>1</td>\n",
              "      <td>0.196364</td>\n",
              "      <td>0.189405</td>\n",
              "      <td>0.437273</td>\n",
              "      <td>0.248309</td>\n",
              "      <td>120</td>\n",
              "      <td>1229</td>\n",
              "      <td>1349</td>\n",
              "    </tr>\n",
              "    <tr>\n",
              "      <th>3</th>\n",
              "      <td>4</td>\n",
              "      <td>2011-01-04</td>\n",
              "      <td>1</td>\n",
              "      <td>0</td>\n",
              "      <td>1</td>\n",
              "      <td>0</td>\n",
              "      <td>2</td>\n",
              "      <td>1</td>\n",
              "      <td>1</td>\n",
              "      <td>0.200000</td>\n",
              "      <td>0.212122</td>\n",
              "      <td>0.590435</td>\n",
              "      <td>0.160296</td>\n",
              "      <td>108</td>\n",
              "      <td>1454</td>\n",
              "      <td>1562</td>\n",
              "    </tr>\n",
              "    <tr>\n",
              "      <th>4</th>\n",
              "      <td>5</td>\n",
              "      <td>2011-01-05</td>\n",
              "      <td>1</td>\n",
              "      <td>0</td>\n",
              "      <td>1</td>\n",
              "      <td>0</td>\n",
              "      <td>3</td>\n",
              "      <td>1</td>\n",
              "      <td>1</td>\n",
              "      <td>0.226957</td>\n",
              "      <td>0.229270</td>\n",
              "      <td>0.436957</td>\n",
              "      <td>0.186900</td>\n",
              "      <td>82</td>\n",
              "      <td>1518</td>\n",
              "      <td>1600</td>\n",
              "    </tr>\n",
              "  </tbody>\n",
              "</table>\n",
              "</div>"
            ],
            "text/plain": [
              "   instant      dteday  season  yr  mnth  holiday  weekday  workingday  \\\n",
              "0        1  2011-01-01       1   0     1        0        6           0   \n",
              "1        2  2011-01-02       1   0     1        0        0           0   \n",
              "2        3  2011-01-03       1   0     1        0        1           1   \n",
              "3        4  2011-01-04       1   0     1        0        2           1   \n",
              "4        5  2011-01-05       1   0     1        0        3           1   \n",
              "\n",
              "   weathersit      temp     atemp       hum  windspeed  casual  registered  \\\n",
              "0           2  0.344167  0.363625  0.805833   0.160446     331         654   \n",
              "1           2  0.363478  0.353739  0.696087   0.248539     131         670   \n",
              "2           1  0.196364  0.189405  0.437273   0.248309     120        1229   \n",
              "3           1  0.200000  0.212122  0.590435   0.160296     108        1454   \n",
              "4           1  0.226957  0.229270  0.436957   0.186900      82        1518   \n",
              "\n",
              "    cnt  \n",
              "0   985  \n",
              "1   801  \n",
              "2  1349  \n",
              "3  1562  \n",
              "4  1600  "
            ]
          },
          "execution_count": 4,
          "metadata": {},
          "output_type": "execute_result"
        }
      ],
      "source": [
        "daily_df.head()"
      ]
    },
    {
      "cell_type": "code",
      "execution_count": 5,
      "metadata": {
        "colab": {
          "base_uri": "https://localhost:8080/",
          "height": 0
        },
        "id": "cuqfZdVR45KH",
        "outputId": "ae8254ba-6639-4a55-e2ce-e03e145c235c"
      },
      "outputs": [
        {
          "name": "stdout",
          "output_type": "stream",
          "text": [
            "<class 'pandas.core.frame.DataFrame'>\n",
            "RangeIndex: 731 entries, 0 to 730\n",
            "Data columns (total 16 columns):\n",
            " #   Column      Non-Null Count  Dtype  \n",
            "---  ------      --------------  -----  \n",
            " 0   instant     731 non-null    int64  \n",
            " 1   dteday      731 non-null    object \n",
            " 2   season      731 non-null    int64  \n",
            " 3   yr          731 non-null    int64  \n",
            " 4   mnth        731 non-null    int64  \n",
            " 5   holiday     731 non-null    int64  \n",
            " 6   weekday     731 non-null    int64  \n",
            " 7   workingday  731 non-null    int64  \n",
            " 8   weathersit  731 non-null    int64  \n",
            " 9   temp        731 non-null    float64\n",
            " 10  atemp       731 non-null    float64\n",
            " 11  hum         731 non-null    float64\n",
            " 12  windspeed   731 non-null    float64\n",
            " 13  casual      731 non-null    int64  \n",
            " 14  registered  731 non-null    int64  \n",
            " 15  cnt         731 non-null    int64  \n",
            "dtypes: float64(4), int64(11), object(1)\n",
            "memory usage: 91.5+ KB\n"
          ]
        },
        {
          "data": {
            "text/html": [
              "<div>\n",
              "<style scoped>\n",
              "    .dataframe tbody tr th:only-of-type {\n",
              "        vertical-align: middle;\n",
              "    }\n",
              "\n",
              "    .dataframe tbody tr th {\n",
              "        vertical-align: top;\n",
              "    }\n",
              "\n",
              "    .dataframe thead th {\n",
              "        text-align: right;\n",
              "    }\n",
              "</style>\n",
              "<table border=\"1\" class=\"dataframe\">\n",
              "  <thead>\n",
              "    <tr style=\"text-align: right;\">\n",
              "      <th></th>\n",
              "      <th>instant</th>\n",
              "      <th>season</th>\n",
              "      <th>yr</th>\n",
              "      <th>mnth</th>\n",
              "      <th>holiday</th>\n",
              "      <th>weekday</th>\n",
              "      <th>workingday</th>\n",
              "      <th>weathersit</th>\n",
              "      <th>temp</th>\n",
              "      <th>atemp</th>\n",
              "      <th>hum</th>\n",
              "      <th>windspeed</th>\n",
              "      <th>casual</th>\n",
              "      <th>registered</th>\n",
              "      <th>cnt</th>\n",
              "    </tr>\n",
              "  </thead>\n",
              "  <tbody>\n",
              "    <tr>\n",
              "      <th>count</th>\n",
              "      <td>731.000000</td>\n",
              "      <td>731.000000</td>\n",
              "      <td>731.000000</td>\n",
              "      <td>731.000000</td>\n",
              "      <td>731.000000</td>\n",
              "      <td>731.000000</td>\n",
              "      <td>731.000000</td>\n",
              "      <td>731.000000</td>\n",
              "      <td>731.000000</td>\n",
              "      <td>731.000000</td>\n",
              "      <td>731.000000</td>\n",
              "      <td>731.000000</td>\n",
              "      <td>731.000000</td>\n",
              "      <td>731.000000</td>\n",
              "      <td>731.000000</td>\n",
              "    </tr>\n",
              "    <tr>\n",
              "      <th>mean</th>\n",
              "      <td>366.000000</td>\n",
              "      <td>2.496580</td>\n",
              "      <td>0.500684</td>\n",
              "      <td>6.519836</td>\n",
              "      <td>0.028728</td>\n",
              "      <td>2.997264</td>\n",
              "      <td>0.683995</td>\n",
              "      <td>1.395349</td>\n",
              "      <td>0.495385</td>\n",
              "      <td>0.474354</td>\n",
              "      <td>0.627894</td>\n",
              "      <td>0.190486</td>\n",
              "      <td>848.176471</td>\n",
              "      <td>3656.172367</td>\n",
              "      <td>4504.348837</td>\n",
              "    </tr>\n",
              "    <tr>\n",
              "      <th>std</th>\n",
              "      <td>211.165812</td>\n",
              "      <td>1.110807</td>\n",
              "      <td>0.500342</td>\n",
              "      <td>3.451913</td>\n",
              "      <td>0.167155</td>\n",
              "      <td>2.004787</td>\n",
              "      <td>0.465233</td>\n",
              "      <td>0.544894</td>\n",
              "      <td>0.183051</td>\n",
              "      <td>0.162961</td>\n",
              "      <td>0.142429</td>\n",
              "      <td>0.077498</td>\n",
              "      <td>686.622488</td>\n",
              "      <td>1560.256377</td>\n",
              "      <td>1937.211452</td>\n",
              "    </tr>\n",
              "    <tr>\n",
              "      <th>min</th>\n",
              "      <td>1.000000</td>\n",
              "      <td>1.000000</td>\n",
              "      <td>0.000000</td>\n",
              "      <td>1.000000</td>\n",
              "      <td>0.000000</td>\n",
              "      <td>0.000000</td>\n",
              "      <td>0.000000</td>\n",
              "      <td>1.000000</td>\n",
              "      <td>0.059130</td>\n",
              "      <td>0.079070</td>\n",
              "      <td>0.000000</td>\n",
              "      <td>0.022392</td>\n",
              "      <td>2.000000</td>\n",
              "      <td>20.000000</td>\n",
              "      <td>22.000000</td>\n",
              "    </tr>\n",
              "    <tr>\n",
              "      <th>25%</th>\n",
              "      <td>183.500000</td>\n",
              "      <td>2.000000</td>\n",
              "      <td>0.000000</td>\n",
              "      <td>4.000000</td>\n",
              "      <td>0.000000</td>\n",
              "      <td>1.000000</td>\n",
              "      <td>0.000000</td>\n",
              "      <td>1.000000</td>\n",
              "      <td>0.337083</td>\n",
              "      <td>0.337842</td>\n",
              "      <td>0.520000</td>\n",
              "      <td>0.134950</td>\n",
              "      <td>315.500000</td>\n",
              "      <td>2497.000000</td>\n",
              "      <td>3152.000000</td>\n",
              "    </tr>\n",
              "    <tr>\n",
              "      <th>50%</th>\n",
              "      <td>366.000000</td>\n",
              "      <td>3.000000</td>\n",
              "      <td>1.000000</td>\n",
              "      <td>7.000000</td>\n",
              "      <td>0.000000</td>\n",
              "      <td>3.000000</td>\n",
              "      <td>1.000000</td>\n",
              "      <td>1.000000</td>\n",
              "      <td>0.498333</td>\n",
              "      <td>0.486733</td>\n",
              "      <td>0.626667</td>\n",
              "      <td>0.180975</td>\n",
              "      <td>713.000000</td>\n",
              "      <td>3662.000000</td>\n",
              "      <td>4548.000000</td>\n",
              "    </tr>\n",
              "    <tr>\n",
              "      <th>75%</th>\n",
              "      <td>548.500000</td>\n",
              "      <td>3.000000</td>\n",
              "      <td>1.000000</td>\n",
              "      <td>10.000000</td>\n",
              "      <td>0.000000</td>\n",
              "      <td>5.000000</td>\n",
              "      <td>1.000000</td>\n",
              "      <td>2.000000</td>\n",
              "      <td>0.655417</td>\n",
              "      <td>0.608602</td>\n",
              "      <td>0.730209</td>\n",
              "      <td>0.233214</td>\n",
              "      <td>1096.000000</td>\n",
              "      <td>4776.500000</td>\n",
              "      <td>5956.000000</td>\n",
              "    </tr>\n",
              "    <tr>\n",
              "      <th>max</th>\n",
              "      <td>731.000000</td>\n",
              "      <td>4.000000</td>\n",
              "      <td>1.000000</td>\n",
              "      <td>12.000000</td>\n",
              "      <td>1.000000</td>\n",
              "      <td>6.000000</td>\n",
              "      <td>1.000000</td>\n",
              "      <td>3.000000</td>\n",
              "      <td>0.861667</td>\n",
              "      <td>0.840896</td>\n",
              "      <td>0.972500</td>\n",
              "      <td>0.507463</td>\n",
              "      <td>3410.000000</td>\n",
              "      <td>6946.000000</td>\n",
              "      <td>8714.000000</td>\n",
              "    </tr>\n",
              "  </tbody>\n",
              "</table>\n",
              "</div>"
            ],
            "text/plain": [
              "          instant      season          yr        mnth     holiday     weekday  \\\n",
              "count  731.000000  731.000000  731.000000  731.000000  731.000000  731.000000   \n",
              "mean   366.000000    2.496580    0.500684    6.519836    0.028728    2.997264   \n",
              "std    211.165812    1.110807    0.500342    3.451913    0.167155    2.004787   \n",
              "min      1.000000    1.000000    0.000000    1.000000    0.000000    0.000000   \n",
              "25%    183.500000    2.000000    0.000000    4.000000    0.000000    1.000000   \n",
              "50%    366.000000    3.000000    1.000000    7.000000    0.000000    3.000000   \n",
              "75%    548.500000    3.000000    1.000000   10.000000    0.000000    5.000000   \n",
              "max    731.000000    4.000000    1.000000   12.000000    1.000000    6.000000   \n",
              "\n",
              "       workingday  weathersit        temp       atemp         hum   windspeed  \\\n",
              "count  731.000000  731.000000  731.000000  731.000000  731.000000  731.000000   \n",
              "mean     0.683995    1.395349    0.495385    0.474354    0.627894    0.190486   \n",
              "std      0.465233    0.544894    0.183051    0.162961    0.142429    0.077498   \n",
              "min      0.000000    1.000000    0.059130    0.079070    0.000000    0.022392   \n",
              "25%      0.000000    1.000000    0.337083    0.337842    0.520000    0.134950   \n",
              "50%      1.000000    1.000000    0.498333    0.486733    0.626667    0.180975   \n",
              "75%      1.000000    2.000000    0.655417    0.608602    0.730209    0.233214   \n",
              "max      1.000000    3.000000    0.861667    0.840896    0.972500    0.507463   \n",
              "\n",
              "            casual   registered          cnt  \n",
              "count   731.000000   731.000000   731.000000  \n",
              "mean    848.176471  3656.172367  4504.348837  \n",
              "std     686.622488  1560.256377  1937.211452  \n",
              "min       2.000000    20.000000    22.000000  \n",
              "25%     315.500000  2497.000000  3152.000000  \n",
              "50%     713.000000  3662.000000  4548.000000  \n",
              "75%    1096.000000  4776.500000  5956.000000  \n",
              "max    3410.000000  6946.000000  8714.000000  "
            ]
          },
          "execution_count": 5,
          "metadata": {},
          "output_type": "execute_result"
        }
      ],
      "source": [
        "daily_df.info()\n",
        "daily_df.describe()"
      ]
    },
    {
      "cell_type": "markdown",
      "metadata": {},
      "source": [
        "no unusual data found (e.g. null values, inconsistent data types, etc.)"
      ]
    },
    {
      "cell_type": "code",
      "execution_count": 6,
      "metadata": {
        "colab": {
          "base_uri": "https://localhost:8080/",
          "height": 0
        },
        "id": "zc9pSc8x5Jkc",
        "outputId": "6509da92-4f9d-40ac-dba7-3b7b369c23f4"
      },
      "outputs": [
        {
          "data": {
            "text/html": [
              "<div>\n",
              "<style scoped>\n",
              "    .dataframe tbody tr th:only-of-type {\n",
              "        vertical-align: middle;\n",
              "    }\n",
              "\n",
              "    .dataframe tbody tr th {\n",
              "        vertical-align: top;\n",
              "    }\n",
              "\n",
              "    .dataframe thead th {\n",
              "        text-align: right;\n",
              "    }\n",
              "</style>\n",
              "<table border=\"1\" class=\"dataframe\">\n",
              "  <thead>\n",
              "    <tr style=\"text-align: right;\">\n",
              "      <th></th>\n",
              "      <th>instant</th>\n",
              "      <th>dteday</th>\n",
              "      <th>season</th>\n",
              "      <th>yr</th>\n",
              "      <th>mnth</th>\n",
              "      <th>hr</th>\n",
              "      <th>holiday</th>\n",
              "      <th>weekday</th>\n",
              "      <th>workingday</th>\n",
              "      <th>weathersit</th>\n",
              "      <th>temp</th>\n",
              "      <th>atemp</th>\n",
              "      <th>hum</th>\n",
              "      <th>windspeed</th>\n",
              "      <th>casual</th>\n",
              "      <th>registered</th>\n",
              "      <th>cnt</th>\n",
              "    </tr>\n",
              "  </thead>\n",
              "  <tbody>\n",
              "    <tr>\n",
              "      <th>0</th>\n",
              "      <td>1</td>\n",
              "      <td>2011-01-01</td>\n",
              "      <td>1</td>\n",
              "      <td>0</td>\n",
              "      <td>1</td>\n",
              "      <td>0</td>\n",
              "      <td>0</td>\n",
              "      <td>6</td>\n",
              "      <td>0</td>\n",
              "      <td>1</td>\n",
              "      <td>0.24</td>\n",
              "      <td>0.2879</td>\n",
              "      <td>0.81</td>\n",
              "      <td>0.0</td>\n",
              "      <td>3</td>\n",
              "      <td>13</td>\n",
              "      <td>16</td>\n",
              "    </tr>\n",
              "    <tr>\n",
              "      <th>1</th>\n",
              "      <td>2</td>\n",
              "      <td>2011-01-01</td>\n",
              "      <td>1</td>\n",
              "      <td>0</td>\n",
              "      <td>1</td>\n",
              "      <td>1</td>\n",
              "      <td>0</td>\n",
              "      <td>6</td>\n",
              "      <td>0</td>\n",
              "      <td>1</td>\n",
              "      <td>0.22</td>\n",
              "      <td>0.2727</td>\n",
              "      <td>0.80</td>\n",
              "      <td>0.0</td>\n",
              "      <td>8</td>\n",
              "      <td>32</td>\n",
              "      <td>40</td>\n",
              "    </tr>\n",
              "    <tr>\n",
              "      <th>2</th>\n",
              "      <td>3</td>\n",
              "      <td>2011-01-01</td>\n",
              "      <td>1</td>\n",
              "      <td>0</td>\n",
              "      <td>1</td>\n",
              "      <td>2</td>\n",
              "      <td>0</td>\n",
              "      <td>6</td>\n",
              "      <td>0</td>\n",
              "      <td>1</td>\n",
              "      <td>0.22</td>\n",
              "      <td>0.2727</td>\n",
              "      <td>0.80</td>\n",
              "      <td>0.0</td>\n",
              "      <td>5</td>\n",
              "      <td>27</td>\n",
              "      <td>32</td>\n",
              "    </tr>\n",
              "    <tr>\n",
              "      <th>3</th>\n",
              "      <td>4</td>\n",
              "      <td>2011-01-01</td>\n",
              "      <td>1</td>\n",
              "      <td>0</td>\n",
              "      <td>1</td>\n",
              "      <td>3</td>\n",
              "      <td>0</td>\n",
              "      <td>6</td>\n",
              "      <td>0</td>\n",
              "      <td>1</td>\n",
              "      <td>0.24</td>\n",
              "      <td>0.2879</td>\n",
              "      <td>0.75</td>\n",
              "      <td>0.0</td>\n",
              "      <td>3</td>\n",
              "      <td>10</td>\n",
              "      <td>13</td>\n",
              "    </tr>\n",
              "    <tr>\n",
              "      <th>4</th>\n",
              "      <td>5</td>\n",
              "      <td>2011-01-01</td>\n",
              "      <td>1</td>\n",
              "      <td>0</td>\n",
              "      <td>1</td>\n",
              "      <td>4</td>\n",
              "      <td>0</td>\n",
              "      <td>6</td>\n",
              "      <td>0</td>\n",
              "      <td>1</td>\n",
              "      <td>0.24</td>\n",
              "      <td>0.2879</td>\n",
              "      <td>0.75</td>\n",
              "      <td>0.0</td>\n",
              "      <td>0</td>\n",
              "      <td>1</td>\n",
              "      <td>1</td>\n",
              "    </tr>\n",
              "  </tbody>\n",
              "</table>\n",
              "</div>"
            ],
            "text/plain": [
              "   instant      dteday  season  yr  mnth  hr  holiday  weekday  workingday  \\\n",
              "0        1  2011-01-01       1   0     1   0        0        6           0   \n",
              "1        2  2011-01-01       1   0     1   1        0        6           0   \n",
              "2        3  2011-01-01       1   0     1   2        0        6           0   \n",
              "3        4  2011-01-01       1   0     1   3        0        6           0   \n",
              "4        5  2011-01-01       1   0     1   4        0        6           0   \n",
              "\n",
              "   weathersit  temp   atemp   hum  windspeed  casual  registered  cnt  \n",
              "0           1  0.24  0.2879  0.81        0.0       3          13   16  \n",
              "1           1  0.22  0.2727  0.80        0.0       8          32   40  \n",
              "2           1  0.22  0.2727  0.80        0.0       5          27   32  \n",
              "3           1  0.24  0.2879  0.75        0.0       3          10   13  \n",
              "4           1  0.24  0.2879  0.75        0.0       0           1    1  "
            ]
          },
          "execution_count": 6,
          "metadata": {},
          "output_type": "execute_result"
        }
      ],
      "source": [
        "hourly_df.head()"
      ]
    },
    {
      "cell_type": "code",
      "execution_count": 7,
      "metadata": {
        "colab": {
          "base_uri": "https://localhost:8080/",
          "height": 0
        },
        "id": "VnbOzKrA7WTz",
        "outputId": "96833d42-ea9b-4555-c7a6-22cc2f0eff26"
      },
      "outputs": [
        {
          "name": "stdout",
          "output_type": "stream",
          "text": [
            "<class 'pandas.core.frame.DataFrame'>\n",
            "RangeIndex: 17379 entries, 0 to 17378\n",
            "Data columns (total 17 columns):\n",
            " #   Column      Non-Null Count  Dtype  \n",
            "---  ------      --------------  -----  \n",
            " 0   instant     17379 non-null  int64  \n",
            " 1   dteday      17379 non-null  object \n",
            " 2   season      17379 non-null  int64  \n",
            " 3   yr          17379 non-null  int64  \n",
            " 4   mnth        17379 non-null  int64  \n",
            " 5   hr          17379 non-null  int64  \n",
            " 6   holiday     17379 non-null  int64  \n",
            " 7   weekday     17379 non-null  int64  \n",
            " 8   workingday  17379 non-null  int64  \n",
            " 9   weathersit  17379 non-null  int64  \n",
            " 10  temp        17379 non-null  float64\n",
            " 11  atemp       17379 non-null  float64\n",
            " 12  hum         17379 non-null  float64\n",
            " 13  windspeed   17379 non-null  float64\n",
            " 14  casual      17379 non-null  int64  \n",
            " 15  registered  17379 non-null  int64  \n",
            " 16  cnt         17379 non-null  int64  \n",
            "dtypes: float64(4), int64(12), object(1)\n",
            "memory usage: 2.3+ MB\n"
          ]
        },
        {
          "data": {
            "text/html": [
              "<div>\n",
              "<style scoped>\n",
              "    .dataframe tbody tr th:only-of-type {\n",
              "        vertical-align: middle;\n",
              "    }\n",
              "\n",
              "    .dataframe tbody tr th {\n",
              "        vertical-align: top;\n",
              "    }\n",
              "\n",
              "    .dataframe thead th {\n",
              "        text-align: right;\n",
              "    }\n",
              "</style>\n",
              "<table border=\"1\" class=\"dataframe\">\n",
              "  <thead>\n",
              "    <tr style=\"text-align: right;\">\n",
              "      <th></th>\n",
              "      <th>instant</th>\n",
              "      <th>season</th>\n",
              "      <th>yr</th>\n",
              "      <th>mnth</th>\n",
              "      <th>hr</th>\n",
              "      <th>holiday</th>\n",
              "      <th>weekday</th>\n",
              "      <th>workingday</th>\n",
              "      <th>weathersit</th>\n",
              "      <th>temp</th>\n",
              "      <th>atemp</th>\n",
              "      <th>hum</th>\n",
              "      <th>windspeed</th>\n",
              "      <th>casual</th>\n",
              "      <th>registered</th>\n",
              "      <th>cnt</th>\n",
              "    </tr>\n",
              "  </thead>\n",
              "  <tbody>\n",
              "    <tr>\n",
              "      <th>count</th>\n",
              "      <td>17379.0000</td>\n",
              "      <td>17379.000000</td>\n",
              "      <td>17379.000000</td>\n",
              "      <td>17379.000000</td>\n",
              "      <td>17379.000000</td>\n",
              "      <td>17379.000000</td>\n",
              "      <td>17379.000000</td>\n",
              "      <td>17379.000000</td>\n",
              "      <td>17379.000000</td>\n",
              "      <td>17379.000000</td>\n",
              "      <td>17379.000000</td>\n",
              "      <td>17379.000000</td>\n",
              "      <td>17379.000000</td>\n",
              "      <td>17379.000000</td>\n",
              "      <td>17379.000000</td>\n",
              "      <td>17379.000000</td>\n",
              "    </tr>\n",
              "    <tr>\n",
              "      <th>mean</th>\n",
              "      <td>8690.0000</td>\n",
              "      <td>2.501640</td>\n",
              "      <td>0.502561</td>\n",
              "      <td>6.537775</td>\n",
              "      <td>11.546752</td>\n",
              "      <td>0.028770</td>\n",
              "      <td>3.003683</td>\n",
              "      <td>0.682721</td>\n",
              "      <td>1.425283</td>\n",
              "      <td>0.496987</td>\n",
              "      <td>0.475775</td>\n",
              "      <td>0.627229</td>\n",
              "      <td>0.190098</td>\n",
              "      <td>35.676218</td>\n",
              "      <td>153.786869</td>\n",
              "      <td>189.463088</td>\n",
              "    </tr>\n",
              "    <tr>\n",
              "      <th>std</th>\n",
              "      <td>5017.0295</td>\n",
              "      <td>1.106918</td>\n",
              "      <td>0.500008</td>\n",
              "      <td>3.438776</td>\n",
              "      <td>6.914405</td>\n",
              "      <td>0.167165</td>\n",
              "      <td>2.005771</td>\n",
              "      <td>0.465431</td>\n",
              "      <td>0.639357</td>\n",
              "      <td>0.192556</td>\n",
              "      <td>0.171850</td>\n",
              "      <td>0.192930</td>\n",
              "      <td>0.122340</td>\n",
              "      <td>49.305030</td>\n",
              "      <td>151.357286</td>\n",
              "      <td>181.387599</td>\n",
              "    </tr>\n",
              "    <tr>\n",
              "      <th>min</th>\n",
              "      <td>1.0000</td>\n",
              "      <td>1.000000</td>\n",
              "      <td>0.000000</td>\n",
              "      <td>1.000000</td>\n",
              "      <td>0.000000</td>\n",
              "      <td>0.000000</td>\n",
              "      <td>0.000000</td>\n",
              "      <td>0.000000</td>\n",
              "      <td>1.000000</td>\n",
              "      <td>0.020000</td>\n",
              "      <td>0.000000</td>\n",
              "      <td>0.000000</td>\n",
              "      <td>0.000000</td>\n",
              "      <td>0.000000</td>\n",
              "      <td>0.000000</td>\n",
              "      <td>1.000000</td>\n",
              "    </tr>\n",
              "    <tr>\n",
              "      <th>25%</th>\n",
              "      <td>4345.5000</td>\n",
              "      <td>2.000000</td>\n",
              "      <td>0.000000</td>\n",
              "      <td>4.000000</td>\n",
              "      <td>6.000000</td>\n",
              "      <td>0.000000</td>\n",
              "      <td>1.000000</td>\n",
              "      <td>0.000000</td>\n",
              "      <td>1.000000</td>\n",
              "      <td>0.340000</td>\n",
              "      <td>0.333300</td>\n",
              "      <td>0.480000</td>\n",
              "      <td>0.104500</td>\n",
              "      <td>4.000000</td>\n",
              "      <td>34.000000</td>\n",
              "      <td>40.000000</td>\n",
              "    </tr>\n",
              "    <tr>\n",
              "      <th>50%</th>\n",
              "      <td>8690.0000</td>\n",
              "      <td>3.000000</td>\n",
              "      <td>1.000000</td>\n",
              "      <td>7.000000</td>\n",
              "      <td>12.000000</td>\n",
              "      <td>0.000000</td>\n",
              "      <td>3.000000</td>\n",
              "      <td>1.000000</td>\n",
              "      <td>1.000000</td>\n",
              "      <td>0.500000</td>\n",
              "      <td>0.484800</td>\n",
              "      <td>0.630000</td>\n",
              "      <td>0.194000</td>\n",
              "      <td>17.000000</td>\n",
              "      <td>115.000000</td>\n",
              "      <td>142.000000</td>\n",
              "    </tr>\n",
              "    <tr>\n",
              "      <th>75%</th>\n",
              "      <td>13034.5000</td>\n",
              "      <td>3.000000</td>\n",
              "      <td>1.000000</td>\n",
              "      <td>10.000000</td>\n",
              "      <td>18.000000</td>\n",
              "      <td>0.000000</td>\n",
              "      <td>5.000000</td>\n",
              "      <td>1.000000</td>\n",
              "      <td>2.000000</td>\n",
              "      <td>0.660000</td>\n",
              "      <td>0.621200</td>\n",
              "      <td>0.780000</td>\n",
              "      <td>0.253700</td>\n",
              "      <td>48.000000</td>\n",
              "      <td>220.000000</td>\n",
              "      <td>281.000000</td>\n",
              "    </tr>\n",
              "    <tr>\n",
              "      <th>max</th>\n",
              "      <td>17379.0000</td>\n",
              "      <td>4.000000</td>\n",
              "      <td>1.000000</td>\n",
              "      <td>12.000000</td>\n",
              "      <td>23.000000</td>\n",
              "      <td>1.000000</td>\n",
              "      <td>6.000000</td>\n",
              "      <td>1.000000</td>\n",
              "      <td>4.000000</td>\n",
              "      <td>1.000000</td>\n",
              "      <td>1.000000</td>\n",
              "      <td>1.000000</td>\n",
              "      <td>0.850700</td>\n",
              "      <td>367.000000</td>\n",
              "      <td>886.000000</td>\n",
              "      <td>977.000000</td>\n",
              "    </tr>\n",
              "  </tbody>\n",
              "</table>\n",
              "</div>"
            ],
            "text/plain": [
              "          instant        season            yr          mnth            hr  \\\n",
              "count  17379.0000  17379.000000  17379.000000  17379.000000  17379.000000   \n",
              "mean    8690.0000      2.501640      0.502561      6.537775     11.546752   \n",
              "std     5017.0295      1.106918      0.500008      3.438776      6.914405   \n",
              "min        1.0000      1.000000      0.000000      1.000000      0.000000   \n",
              "25%     4345.5000      2.000000      0.000000      4.000000      6.000000   \n",
              "50%     8690.0000      3.000000      1.000000      7.000000     12.000000   \n",
              "75%    13034.5000      3.000000      1.000000     10.000000     18.000000   \n",
              "max    17379.0000      4.000000      1.000000     12.000000     23.000000   \n",
              "\n",
              "            holiday       weekday    workingday    weathersit          temp  \\\n",
              "count  17379.000000  17379.000000  17379.000000  17379.000000  17379.000000   \n",
              "mean       0.028770      3.003683      0.682721      1.425283      0.496987   \n",
              "std        0.167165      2.005771      0.465431      0.639357      0.192556   \n",
              "min        0.000000      0.000000      0.000000      1.000000      0.020000   \n",
              "25%        0.000000      1.000000      0.000000      1.000000      0.340000   \n",
              "50%        0.000000      3.000000      1.000000      1.000000      0.500000   \n",
              "75%        0.000000      5.000000      1.000000      2.000000      0.660000   \n",
              "max        1.000000      6.000000      1.000000      4.000000      1.000000   \n",
              "\n",
              "              atemp           hum     windspeed        casual    registered  \\\n",
              "count  17379.000000  17379.000000  17379.000000  17379.000000  17379.000000   \n",
              "mean       0.475775      0.627229      0.190098     35.676218    153.786869   \n",
              "std        0.171850      0.192930      0.122340     49.305030    151.357286   \n",
              "min        0.000000      0.000000      0.000000      0.000000      0.000000   \n",
              "25%        0.333300      0.480000      0.104500      4.000000     34.000000   \n",
              "50%        0.484800      0.630000      0.194000     17.000000    115.000000   \n",
              "75%        0.621200      0.780000      0.253700     48.000000    220.000000   \n",
              "max        1.000000      1.000000      0.850700    367.000000    886.000000   \n",
              "\n",
              "                cnt  \n",
              "count  17379.000000  \n",
              "mean     189.463088  \n",
              "std      181.387599  \n",
              "min        1.000000  \n",
              "25%       40.000000  \n",
              "50%      142.000000  \n",
              "75%      281.000000  \n",
              "max      977.000000  "
            ]
          },
          "execution_count": 7,
          "metadata": {},
          "output_type": "execute_result"
        }
      ],
      "source": [
        "hourly_df.info()\n",
        "hourly_df.describe()"
      ]
    },
    {
      "cell_type": "markdown",
      "metadata": {},
      "source": [
        "no unusual data found (e.g. out of range weekdays, non binary holida/workingday, etc.)"
      ]
    },
    {
      "cell_type": "code",
      "execution_count": 8,
      "metadata": {
        "colab": {
          "base_uri": "https://localhost:8080/"
        },
        "id": "mDCHn0vG2cIL",
        "outputId": "aaf45844-5743-49e7-c59f-d7b65b5c5d5d"
      },
      "outputs": [
        {
          "name": "stdout",
          "output_type": "stream",
          "text": [
            "Number of duplicate rows: 0\n",
            "Number of duplicate rows: 0\n"
          ]
        }
      ],
      "source": [
        "duplicate_rows = daily_df.duplicated().sum()\n",
        "print(\"Number of duplicate rows:\", duplicate_rows)\n",
        "duplicate_rows = hourly_df.duplicated().sum()\n",
        "print(\"Number of duplicate rows:\", duplicate_rows)"
      ]
    },
    {
      "cell_type": "markdown",
      "metadata": {},
      "source": [
        "no duplicates"
      ]
    },
    {
      "cell_type": "code",
      "execution_count": 9,
      "metadata": {
        "colab": {
          "base_uri": "https://localhost:8080/",
          "height": 0
        },
        "id": "pIhVUK-i5fFi",
        "outputId": "82cf0744-7502-40f5-f695-e5b56eaa299b"
      },
      "outputs": [
        {
          "data": {
            "image/png": "[encoded data removed]",
            "text/plain": [
              "<Figure size 640x480 with 1 Axes>"
            ]
          },
          "metadata": {},
          "output_type": "display_data"
        },
        {
          "name": "stdout",
          "output_type": "stream",
          "text": [
            "Outliers:\n",
            "        instant      dteday  season  yr  mnth  hr  holiday  weekday  \\\n",
            "5536      5537  2011-08-23       3   0     8  14        0        2   \n",
            "10358    10359  2012-03-12       1   1     3  17        0        1   \n",
            "10359    10360  2012-03-12       1   1     3  18        0        1   \n",
            "10382    10383  2012-03-13       1   1     3  17        0        2   \n",
            "10383    10384  2012-03-13       1   1     3  18        0        2   \n",
            "...        ...         ...     ...  ..   ...  ..      ...      ...   \n",
            "16885    16886  2012-12-11       4   1    12   8        0        2   \n",
            "16909    16910  2012-12-12       4   1    12   8        0        3   \n",
            "16933    16934  2012-12-13       4   1    12   8        0        4   \n",
            "17053    17054  2012-12-18       4   1    12   8        0        2   \n",
            "17077    17078  2012-12-19       4   1    12   8        0        3   \n",
            "\n",
            "       workingday  weathersit  temp   atemp   hum  windspeed  casual  \\\n",
            "5536            1           1  0.72  0.6515  0.30     0.0896     149   \n",
            "10358           1           2  0.62  0.6212  0.38     0.4179      87   \n",
            "10359           1           2  0.60  0.6212  0.43     0.1940      89   \n",
            "10382           1           1  0.70  0.6364  0.37     0.1045      62   \n",
            "10383           1           1  0.70  0.6364  0.34     0.2985      96   \n",
            "...           ...         ...   ...     ...   ...        ...     ...   \n",
            "16885           1           2  0.34  0.3030  0.61     0.2985      16   \n",
            "16909           1           2  0.26  0.2576  0.65     0.1642      18   \n",
            "16933           1           1  0.24  0.2273  0.60     0.1940      24   \n",
            "17053           1           1  0.38  0.3939  0.94     0.0000      10   \n",
            "17077           1           1  0.24  0.2576  0.87     0.1045      13   \n",
            "\n",
            "       registered  cnt  \n",
            "5536          502  651  \n",
            "10358         557  644  \n",
            "10359         623  712  \n",
            "10382         614  676  \n",
            "10383         638  734  \n",
            "...           ...  ...  \n",
            "16885         708  724  \n",
            "16909         670  688  \n",
            "16933         655  679  \n",
            "17053         652  662  \n",
            "17077         665  678  \n",
            "\n",
            "[505 rows x 17 columns]\n"
          ]
        }
      ],
      "source": [
        "sns.boxplot(x=hourly_df['cnt'])\n",
        "plt.show()\n",
        "\n",
        "Q1 = hourly_df['cnt'].quantile(0.25)\n",
        "Q3 = hourly_df['cnt'].quantile(0.75)\n",
        "IQR = Q3 - Q1\n",
        "lower_bound = Q1 - 1.5 * IQR\n",
        "upper_bound = Q3 + 1.5 * IQR\n",
        "\n",
        "outliers = hourly_df[(hourly_df['cnt'] < lower_bound) | (hourly_df['cnt'] > upper_bound)]\n",
        "print(\"Outliers:\\n\", outliers)\n"
      ]
    },
    {
      "cell_type": "markdown",
      "metadata": {},
      "source": [
        "- its best not to remove this since outliers are rush hour times on workdays which is an important piece of information\n",
        "- removed on another variable for searching non rush hour trends"
      ]
    },
    {
      "cell_type": "code",
      "execution_count": 10,
      "metadata": {
        "colab": {
          "base_uri": "https://localhost:8080/",
          "height": 0
        },
        "id": "SXtuFpwc-QEm",
        "outputId": "938524b0-6098-4bc5-a512-27dab7c0e0da"
      },
      "outputs": [
        {
          "data": {
            "image/png": "[encoded data removed]",
            "text/plain": [
              "<Figure size 640x480 with 1 Axes>"
            ]
          },
          "metadata": {},
          "output_type": "display_data"
        },
        {
          "name": "stdout",
          "output_type": "stream",
          "text": [
            "Outliers:\n",
            " Empty DataFrame\n",
            "Columns: [instant, dteday, season, yr, mnth, holiday, weekday, workingday, weathersit, temp, atemp, hum, windspeed, casual, registered, cnt]\n",
            "Index: []\n"
          ]
        }
      ],
      "source": [
        "sns.boxplot(x=daily_df['cnt'])\n",
        "plt.show()\n",
        "\n",
        "Q1 = daily_df['cnt'].quantile(0.25)\n",
        "Q3 = daily_df['cnt'].quantile(0.75)\n",
        "IQR = Q3 - Q1\n",
        "lower_bound = Q1 - 1.5 * IQR\n",
        "upper_bound = Q3 + 1.5 * IQR\n",
        "\n",
        "outliers = daily_df[(daily_df['cnt'] < lower_bound) | (daily_df['cnt'] > upper_bound)]\n",
        "print(\"Outliers:\\n\", outliers)"
      ]
    },
    {
      "cell_type": "markdown",
      "metadata": {
        "id": "EhN5R4hr8DC1"
      },
      "source": [
        "### Cleaning Data"
      ]
    },
    {
      "cell_type": "code",
      "execution_count": 11,
      "metadata": {
        "colab": {
          "base_uri": "https://localhost:8080/",
          "height": 0
        },
        "id": "jVnYpprE9Evz",
        "outputId": "2ec1bfd3-7267-4ca2-f367-52da18afd1fe"
      },
      "outputs": [
        {
          "data": {
            "image/png": "[encoded data removed]",
            "text/plain": [
              "<Figure size 640x480 with 1 Axes>"
            ]
          },
          "metadata": {},
          "output_type": "display_data"
        }
      ],
      "source": [
        "unrushed_hourly_df = hourly_df.copy()\n",
        "\n",
        "Q1 = unrushed_hourly_df['cnt'].quantile(0.25)\n",
        "Q3 = unrushed_hourly_df['cnt'].quantile(0.75)\n",
        "IQR = Q3 - Q1\n",
        "lower_bound = Q1 - 1.5 * IQR\n",
        "upper_bound = Q3 + 1.5 * IQR\n",
        "\n",
        "unrushed_hourly_df.drop(unrushed_hourly_df[unrushed_hourly_df['cnt'] < lower_bound].index, inplace=True)\n",
        "unrushed_hourly_df.drop(unrushed_hourly_df[unrushed_hourly_df['cnt'] > upper_bound].index, inplace=True)\n",
        "\n",
        "sns.boxplot(x=unrushed_hourly_df['cnt'])\n",
        "plt.show()"
      ]
    },
    {
      "cell_type": "code",
      "execution_count": 12,
      "metadata": {
        "colab": {
          "base_uri": "https://localhost:8080/",
          "height": 0
        },
        "id": "OPN6bbCgUm2W",
        "outputId": "0c8f9e52-1c74-4bc5-e172-1a177bc12faf"
      },
      "outputs": [
        {
          "data": {
            "text/html": [
              "<div>\n",
              "<style scoped>\n",
              "    .dataframe tbody tr th:only-of-type {\n",
              "        vertical-align: middle;\n",
              "    }\n",
              "\n",
              "    .dataframe tbody tr th {\n",
              "        vertical-align: top;\n",
              "    }\n",
              "\n",
              "    .dataframe thead th {\n",
              "        text-align: right;\n",
              "    }\n",
              "</style>\n",
              "<table border=\"1\" class=\"dataframe\">\n",
              "  <thead>\n",
              "    <tr style=\"text-align: right;\">\n",
              "      <th></th>\n",
              "      <th>instant</th>\n",
              "      <th>dteday</th>\n",
              "      <th>season</th>\n",
              "      <th>yr</th>\n",
              "      <th>mnth</th>\n",
              "      <th>holiday</th>\n",
              "      <th>weekday</th>\n",
              "      <th>workingday</th>\n",
              "      <th>weathersit</th>\n",
              "      <th>temp</th>\n",
              "      <th>atemp</th>\n",
              "      <th>hum</th>\n",
              "      <th>windspeed</th>\n",
              "      <th>casual</th>\n",
              "      <th>registered</th>\n",
              "      <th>cnt</th>\n",
              "    </tr>\n",
              "  </thead>\n",
              "  <tbody>\n",
              "    <tr>\n",
              "      <th>0</th>\n",
              "      <td>1</td>\n",
              "      <td>2011-01-01</td>\n",
              "      <td>Spring</td>\n",
              "      <td>0</td>\n",
              "      <td>1</td>\n",
              "      <td>Non-Holiday</td>\n",
              "      <td>6</td>\n",
              "      <td>Non-Working Day</td>\n",
              "      <td>Mist + Cloudy</td>\n",
              "      <td>0.344167</td>\n",
              "      <td>0.363625</td>\n",
              "      <td>0.805833</td>\n",
              "      <td>0.160446</td>\n",
              "      <td>331</td>\n",
              "      <td>654</td>\n",
              "      <td>985</td>\n",
              "    </tr>\n",
              "    <tr>\n",
              "      <th>1</th>\n",
              "      <td>2</td>\n",
              "      <td>2011-01-02</td>\n",
              "      <td>Spring</td>\n",
              "      <td>0</td>\n",
              "      <td>1</td>\n",
              "      <td>Non-Holiday</td>\n",
              "      <td>0</td>\n",
              "      <td>Non-Working Day</td>\n",
              "      <td>Mist + Cloudy</td>\n",
              "      <td>0.363478</td>\n",
              "      <td>0.353739</td>\n",
              "      <td>0.696087</td>\n",
              "      <td>0.248539</td>\n",
              "      <td>131</td>\n",
              "      <td>670</td>\n",
              "      <td>801</td>\n",
              "    </tr>\n",
              "    <tr>\n",
              "      <th>2</th>\n",
              "      <td>3</td>\n",
              "      <td>2011-01-03</td>\n",
              "      <td>Spring</td>\n",
              "      <td>0</td>\n",
              "      <td>1</td>\n",
              "      <td>Non-Holiday</td>\n",
              "      <td>1</td>\n",
              "      <td>Working Day</td>\n",
              "      <td>Clear</td>\n",
              "      <td>0.196364</td>\n",
              "      <td>0.189405</td>\n",
              "      <td>0.437273</td>\n",
              "      <td>0.248309</td>\n",
              "      <td>120</td>\n",
              "      <td>1229</td>\n",
              "      <td>1349</td>\n",
              "    </tr>\n",
              "    <tr>\n",
              "      <th>3</th>\n",
              "      <td>4</td>\n",
              "      <td>2011-01-04</td>\n",
              "      <td>Spring</td>\n",
              "      <td>0</td>\n",
              "      <td>1</td>\n",
              "      <td>Non-Holiday</td>\n",
              "      <td>2</td>\n",
              "      <td>Working Day</td>\n",
              "      <td>Clear</td>\n",
              "      <td>0.200000</td>\n",
              "      <td>0.212122</td>\n",
              "      <td>0.590435</td>\n",
              "      <td>0.160296</td>\n",
              "      <td>108</td>\n",
              "      <td>1454</td>\n",
              "      <td>1562</td>\n",
              "    </tr>\n",
              "    <tr>\n",
              "      <th>4</th>\n",
              "      <td>5</td>\n",
              "      <td>2011-01-05</td>\n",
              "      <td>Spring</td>\n",
              "      <td>0</td>\n",
              "      <td>1</td>\n",
              "      <td>Non-Holiday</td>\n",
              "      <td>3</td>\n",
              "      <td>Working Day</td>\n",
              "      <td>Clear</td>\n",
              "      <td>0.226957</td>\n",
              "      <td>0.229270</td>\n",
              "      <td>0.436957</td>\n",
              "      <td>0.186900</td>\n",
              "      <td>82</td>\n",
              "      <td>1518</td>\n",
              "      <td>1600</td>\n",
              "    </tr>\n",
              "  </tbody>\n",
              "</table>\n",
              "</div>"
            ],
            "text/plain": [
              "   instant      dteday  season  yr  mnth      holiday  weekday  \\\n",
              "0        1  2011-01-01  Spring   0     1  Non-Holiday        6   \n",
              "1        2  2011-01-02  Spring   0     1  Non-Holiday        0   \n",
              "2        3  2011-01-03  Spring   0     1  Non-Holiday        1   \n",
              "3        4  2011-01-04  Spring   0     1  Non-Holiday        2   \n",
              "4        5  2011-01-05  Spring   0     1  Non-Holiday        3   \n",
              "\n",
              "        workingday     weathersit      temp     atemp       hum  windspeed  \\\n",
              "0  Non-Working Day  Mist + Cloudy  0.344167  0.363625  0.805833   0.160446   \n",
              "1  Non-Working Day  Mist + Cloudy  0.363478  0.353739  0.696087   0.248539   \n",
              "2      Working Day          Clear  0.196364  0.189405  0.437273   0.248309   \n",
              "3      Working Day          Clear  0.200000  0.212122  0.590435   0.160296   \n",
              "4      Working Day          Clear  0.226957  0.229270  0.436957   0.186900   \n",
              "\n",
              "   casual  registered   cnt  \n",
              "0     331         654   985  \n",
              "1     131         670   801  \n",
              "2     120        1229  1349  \n",
              "3     108        1454  1562  \n",
              "4      82        1518  1600  "
            ]
          },
          "execution_count": 12,
          "metadata": {},
          "output_type": "execute_result"
        }
      ],
      "source": [
        "daily_df['weathersit'] = daily_df['weathersit'].map({\n",
        "    1: 'Clear',\n",
        "    2: 'Mist + Cloudy',\n",
        "    3: 'Light Snow/Rain',\n",
        "    4: 'Heavy Rain/Ice'\n",
        "})\n",
        "\n",
        "daily_df['season'] = daily_df['season'].map({\n",
        "    1: 'Spring',\n",
        "    2: 'Summer',\n",
        "    3: 'Fall',\n",
        "    4: 'Winter'\n",
        "})\n",
        "\n",
        "daily_df['holiday'] = daily_df['holiday'].map({\n",
        "    0: 'Non-Holiday',\n",
        "    1: 'Holiday'\n",
        "})\n",
        "\n",
        "daily_df['workingday'] = daily_df['workingday'].map({\n",
        "    0: 'Non-Working Day',\n",
        "    1: 'Working Day'\n",
        "})\n",
        "\n",
        "# converted ints to categories\n",
        "daily_df.head()"
      ]
    },
    {
      "cell_type": "code",
      "execution_count": 13,
      "metadata": {
        "colab": {
          "base_uri": "https://localhost:8080/",
          "height": 0
        },
        "id": "Wj20AEIdVDbh",
        "outputId": "56f5940d-a6f6-406c-98ac-a6bc32bb5116"
      },
      "outputs": [
        {
          "data": {
            "text/html": [
              "<div>\n",
              "<style scoped>\n",
              "    .dataframe tbody tr th:only-of-type {\n",
              "        vertical-align: middle;\n",
              "    }\n",
              "\n",
              "    .dataframe tbody tr th {\n",
              "        vertical-align: top;\n",
              "    }\n",
              "\n",
              "    .dataframe thead th {\n",
              "        text-align: right;\n",
              "    }\n",
              "</style>\n",
              "<table border=\"1\" class=\"dataframe\">\n",
              "  <thead>\n",
              "    <tr style=\"text-align: right;\">\n",
              "      <th></th>\n",
              "      <th>instant</th>\n",
              "      <th>dteday</th>\n",
              "      <th>season</th>\n",
              "      <th>yr</th>\n",
              "      <th>mnth</th>\n",
              "      <th>hr</th>\n",
              "      <th>holiday</th>\n",
              "      <th>weekday</th>\n",
              "      <th>workingday</th>\n",
              "      <th>weathersit</th>\n",
              "      <th>temp</th>\n",
              "      <th>atemp</th>\n",
              "      <th>hum</th>\n",
              "      <th>windspeed</th>\n",
              "      <th>casual</th>\n",
              "      <th>registered</th>\n",
              "      <th>cnt</th>\n",
              "    </tr>\n",
              "  </thead>\n",
              "  <tbody>\n",
              "    <tr>\n",
              "      <th>0</th>\n",
              "      <td>1</td>\n",
              "      <td>2011-01-01</td>\n",
              "      <td>Spring</td>\n",
              "      <td>0</td>\n",
              "      <td>1</td>\n",
              "      <td>0</td>\n",
              "      <td>Non-Holiday</td>\n",
              "      <td>6</td>\n",
              "      <td>Non-Working Day</td>\n",
              "      <td>Clear</td>\n",
              "      <td>0.24</td>\n",
              "      <td>0.2879</td>\n",
              "      <td>0.81</td>\n",
              "      <td>0.0</td>\n",
              "      <td>3</td>\n",
              "      <td>13</td>\n",
              "      <td>16</td>\n",
              "    </tr>\n",
              "    <tr>\n",
              "      <th>1</th>\n",
              "      <td>2</td>\n",
              "      <td>2011-01-01</td>\n",
              "      <td>Spring</td>\n",
              "      <td>0</td>\n",
              "      <td>1</td>\n",
              "      <td>1</td>\n",
              "      <td>Non-Holiday</td>\n",
              "      <td>6</td>\n",
              "      <td>Non-Working Day</td>\n",
              "      <td>Clear</td>\n",
              "      <td>0.22</td>\n",
              "      <td>0.2727</td>\n",
              "      <td>0.80</td>\n",
              "      <td>0.0</td>\n",
              "      <td>8</td>\n",
              "      <td>32</td>\n",
              "      <td>40</td>\n",
              "    </tr>\n",
              "    <tr>\n",
              "      <th>2</th>\n",
              "      <td>3</td>\n",
              "      <td>2011-01-01</td>\n",
              "      <td>Spring</td>\n",
              "      <td>0</td>\n",
              "      <td>1</td>\n",
              "      <td>2</td>\n",
              "      <td>Non-Holiday</td>\n",
              "      <td>6</td>\n",
              "      <td>Non-Working Day</td>\n",
              "      <td>Clear</td>\n",
              "      <td>0.22</td>\n",
              "      <td>0.2727</td>\n",
              "      <td>0.80</td>\n",
              "      <td>0.0</td>\n",
              "      <td>5</td>\n",
              "      <td>27</td>\n",
              "      <td>32</td>\n",
              "    </tr>\n",
              "    <tr>\n",
              "      <th>3</th>\n",
              "      <td>4</td>\n",
              "      <td>2011-01-01</td>\n",
              "      <td>Spring</td>\n",
              "      <td>0</td>\n",
              "      <td>1</td>\n",
              "      <td>3</td>\n",
              "      <td>Non-Holiday</td>\n",
              "      <td>6</td>\n",
              "      <td>Non-Working Day</td>\n",
              "      <td>Clear</td>\n",
              "      <td>0.24</td>\n",
              "      <td>0.2879</td>\n",
              "      <td>0.75</td>\n",
              "      <td>0.0</td>\n",
              "      <td>3</td>\n",
              "      <td>10</td>\n",
              "      <td>13</td>\n",
              "    </tr>\n",
              "    <tr>\n",
              "      <th>4</th>\n",
              "      <td>5</td>\n",
              "      <td>2011-01-01</td>\n",
              "      <td>Spring</td>\n",
              "      <td>0</td>\n",
              "      <td>1</td>\n",
              "      <td>4</td>\n",
              "      <td>Non-Holiday</td>\n",
              "      <td>6</td>\n",
              "      <td>Non-Working Day</td>\n",
              "      <td>Clear</td>\n",
              "      <td>0.24</td>\n",
              "      <td>0.2879</td>\n",
              "      <td>0.75</td>\n",
              "      <td>0.0</td>\n",
              "      <td>0</td>\n",
              "      <td>1</td>\n",
              "      <td>1</td>\n",
              "    </tr>\n",
              "  </tbody>\n",
              "</table>\n",
              "</div>"
            ],
            "text/plain": [
              "   instant      dteday  season  yr  mnth  hr      holiday  weekday  \\\n",
              "0        1  2011-01-01  Spring   0     1   0  Non-Holiday        6   \n",
              "1        2  2011-01-01  Spring   0     1   1  Non-Holiday        6   \n",
              "2        3  2011-01-01  Spring   0     1   2  Non-Holiday        6   \n",
              "3        4  2011-01-01  Spring   0     1   3  Non-Holiday        6   \n",
              "4        5  2011-01-01  Spring   0     1   4  Non-Holiday        6   \n",
              "\n",
              "        workingday weathersit  temp   atemp   hum  windspeed  casual  \\\n",
              "0  Non-Working Day      Clear  0.24  0.2879  0.81        0.0       3   \n",
              "1  Non-Working Day      Clear  0.22  0.2727  0.80        0.0       8   \n",
              "2  Non-Working Day      Clear  0.22  0.2727  0.80        0.0       5   \n",
              "3  Non-Working Day      Clear  0.24  0.2879  0.75        0.0       3   \n",
              "4  Non-Working Day      Clear  0.24  0.2879  0.75        0.0       0   \n",
              "\n",
              "   registered  cnt  \n",
              "0          13   16  \n",
              "1          32   40  \n",
              "2          27   32  \n",
              "3          10   13  \n",
              "4           1    1  "
            ]
          },
          "execution_count": 13,
          "metadata": {},
          "output_type": "execute_result"
        }
      ],
      "source": [
        "hourly_df['weathersit'] = hourly_df['weathersit'].map({\n",
        "    1: 'Clear',\n",
        "    2: 'Mist + Cloudy',\n",
        "    3: 'Light Snow/Rain',\n",
        "    4: 'Heavy Rain/Ice'\n",
        "})\n",
        "\n",
        "hourly_df['season'] = hourly_df['season'].map({\n",
        "    1: 'Spring',\n",
        "    2: 'Summer',\n",
        "    3: 'Fall',\n",
        "    4: 'Winter'\n",
        "})\n",
        "\n",
        "hourly_df['holiday'] = hourly_df['holiday'].map({\n",
        "    0: 'Non-Holiday',\n",
        "    1: 'Holiday'\n",
        "})\n",
        "\n",
        "hourly_df['workingday'] = hourly_df['workingday'].map({\n",
        "    0: 'Non-Working Day',\n",
        "    1: 'Working Day'\n",
        "})\n",
        "\n",
        "# converted ints to categories\n",
        "hourly_df.head()"
      ]
    },
    {
      "cell_type": "code",
      "execution_count": 14,
      "metadata": {
        "colab": {
          "base_uri": "https://localhost:8080/",
          "height": 0
        },
        "id": "b9Y4EHEGVKTW",
        "outputId": "de4bfe4c-e516-4dce-95f9-d3751b5d33e6"
      },
      "outputs": [
        {
          "data": {
            "text/html": [
              "<div>\n",
              "<style scoped>\n",
              "    .dataframe tbody tr th:only-of-type {\n",
              "        vertical-align: middle;\n",
              "    }\n",
              "\n",
              "    .dataframe tbody tr th {\n",
              "        vertical-align: top;\n",
              "    }\n",
              "\n",
              "    .dataframe thead th {\n",
              "        text-align: right;\n",
              "    }\n",
              "</style>\n",
              "<table border=\"1\" class=\"dataframe\">\n",
              "  <thead>\n",
              "    <tr style=\"text-align: right;\">\n",
              "      <th></th>\n",
              "      <th>instant</th>\n",
              "      <th>dteday</th>\n",
              "      <th>season</th>\n",
              "      <th>yr</th>\n",
              "      <th>mnth</th>\n",
              "      <th>hr</th>\n",
              "      <th>holiday</th>\n",
              "      <th>weekday</th>\n",
              "      <th>workingday</th>\n",
              "      <th>weathersit</th>\n",
              "      <th>temp</th>\n",
              "      <th>atemp</th>\n",
              "      <th>hum</th>\n",
              "      <th>windspeed</th>\n",
              "      <th>casual</th>\n",
              "      <th>registered</th>\n",
              "      <th>cnt</th>\n",
              "    </tr>\n",
              "  </thead>\n",
              "  <tbody>\n",
              "    <tr>\n",
              "      <th>0</th>\n",
              "      <td>1</td>\n",
              "      <td>2011-01-01</td>\n",
              "      <td>Spring</td>\n",
              "      <td>0</td>\n",
              "      <td>1</td>\n",
              "      <td>0</td>\n",
              "      <td>Non-Holiday</td>\n",
              "      <td>6</td>\n",
              "      <td>Non-Working Day</td>\n",
              "      <td>Clear</td>\n",
              "      <td>0.24</td>\n",
              "      <td>0.2879</td>\n",
              "      <td>0.81</td>\n",
              "      <td>0.0</td>\n",
              "      <td>3</td>\n",
              "      <td>13</td>\n",
              "      <td>16</td>\n",
              "    </tr>\n",
              "    <tr>\n",
              "      <th>1</th>\n",
              "      <td>2</td>\n",
              "      <td>2011-01-01</td>\n",
              "      <td>Spring</td>\n",
              "      <td>0</td>\n",
              "      <td>1</td>\n",
              "      <td>1</td>\n",
              "      <td>Non-Holiday</td>\n",
              "      <td>6</td>\n",
              "      <td>Non-Working Day</td>\n",
              "      <td>Clear</td>\n",
              "      <td>0.22</td>\n",
              "      <td>0.2727</td>\n",
              "      <td>0.80</td>\n",
              "      <td>0.0</td>\n",
              "      <td>8</td>\n",
              "      <td>32</td>\n",
              "      <td>40</td>\n",
              "    </tr>\n",
              "    <tr>\n",
              "      <th>2</th>\n",
              "      <td>3</td>\n",
              "      <td>2011-01-01</td>\n",
              "      <td>Spring</td>\n",
              "      <td>0</td>\n",
              "      <td>1</td>\n",
              "      <td>2</td>\n",
              "      <td>Non-Holiday</td>\n",
              "      <td>6</td>\n",
              "      <td>Non-Working Day</td>\n",
              "      <td>Clear</td>\n",
              "      <td>0.22</td>\n",
              "      <td>0.2727</td>\n",
              "      <td>0.80</td>\n",
              "      <td>0.0</td>\n",
              "      <td>5</td>\n",
              "      <td>27</td>\n",
              "      <td>32</td>\n",
              "    </tr>\n",
              "    <tr>\n",
              "      <th>3</th>\n",
              "      <td>4</td>\n",
              "      <td>2011-01-01</td>\n",
              "      <td>Spring</td>\n",
              "      <td>0</td>\n",
              "      <td>1</td>\n",
              "      <td>3</td>\n",
              "      <td>Non-Holiday</td>\n",
              "      <td>6</td>\n",
              "      <td>Non-Working Day</td>\n",
              "      <td>Clear</td>\n",
              "      <td>0.24</td>\n",
              "      <td>0.2879</td>\n",
              "      <td>0.75</td>\n",
              "      <td>0.0</td>\n",
              "      <td>3</td>\n",
              "      <td>10</td>\n",
              "      <td>13</td>\n",
              "    </tr>\n",
              "    <tr>\n",
              "      <th>4</th>\n",
              "      <td>5</td>\n",
              "      <td>2011-01-01</td>\n",
              "      <td>Spring</td>\n",
              "      <td>0</td>\n",
              "      <td>1</td>\n",
              "      <td>4</td>\n",
              "      <td>Non-Holiday</td>\n",
              "      <td>6</td>\n",
              "      <td>Non-Working Day</td>\n",
              "      <td>Clear</td>\n",
              "      <td>0.24</td>\n",
              "      <td>0.2879</td>\n",
              "      <td>0.75</td>\n",
              "      <td>0.0</td>\n",
              "      <td>0</td>\n",
              "      <td>1</td>\n",
              "      <td>1</td>\n",
              "    </tr>\n",
              "  </tbody>\n",
              "</table>\n",
              "</div>"
            ],
            "text/plain": [
              "   instant      dteday  season  yr  mnth  hr      holiday  weekday  \\\n",
              "0        1  2011-01-01  Spring   0     1   0  Non-Holiday        6   \n",
              "1        2  2011-01-01  Spring   0     1   1  Non-Holiday        6   \n",
              "2        3  2011-01-01  Spring   0     1   2  Non-Holiday        6   \n",
              "3        4  2011-01-01  Spring   0     1   3  Non-Holiday        6   \n",
              "4        5  2011-01-01  Spring   0     1   4  Non-Holiday        6   \n",
              "\n",
              "        workingday weathersit  temp   atemp   hum  windspeed  casual  \\\n",
              "0  Non-Working Day      Clear  0.24  0.2879  0.81        0.0       3   \n",
              "1  Non-Working Day      Clear  0.22  0.2727  0.80        0.0       8   \n",
              "2  Non-Working Day      Clear  0.22  0.2727  0.80        0.0       5   \n",
              "3  Non-Working Day      Clear  0.24  0.2879  0.75        0.0       3   \n",
              "4  Non-Working Day      Clear  0.24  0.2879  0.75        0.0       0   \n",
              "\n",
              "   registered  cnt  \n",
              "0          13   16  \n",
              "1          32   40  \n",
              "2          27   32  \n",
              "3          10   13  \n",
              "4           1    1  "
            ]
          },
          "execution_count": 14,
          "metadata": {},
          "output_type": "execute_result"
        }
      ],
      "source": [
        "unrushed_hourly_df['weathersit'] = unrushed_hourly_df['weathersit'].map({\n",
        "    1: 'Clear',\n",
        "    2: 'Mist + Cloudy',\n",
        "    3: 'Light Snow/Rain',\n",
        "    4: 'Heavy Rain/Ice'\n",
        "})\n",
        "\n",
        "unrushed_hourly_df['season'] = unrushed_hourly_df['season'].map({\n",
        "    1: 'Spring',\n",
        "    2: 'Summer',\n",
        "    3: 'Fall',\n",
        "    4: 'Winter'\n",
        "})\n",
        "\n",
        "unrushed_hourly_df['holiday'] = unrushed_hourly_df['holiday'].map({\n",
        "    0: 'Non-Holiday',\n",
        "    1: 'Holiday'\n",
        "})\n",
        "\n",
        "unrushed_hourly_df['workingday'] = unrushed_hourly_df['workingday'].map({\n",
        "    0: 'Non-Working Day',\n",
        "    1: 'Working Day'\n",
        "})\n",
        "\n",
        "# converted ints to categories\n",
        "unrushed_hourly_df.head()"
      ]
    },
    {
      "cell_type": "markdown",
      "metadata": {
        "id": "gp-Y6wU38DC1"
      },
      "source": [
        "## Exploratory Data Analysis (EDA)"
      ]
    },
    {
      "cell_type": "markdown",
      "metadata": {
        "id": "MW7WF2kr8DC1"
      },
      "source": [
        "### Explore ..."
      ]
    },
    {
      "cell_type": "code",
      "execution_count": 15,
      "metadata": {
        "colab": {
          "base_uri": "https://localhost:8080/",
          "height": 206
        },
        "id": "xhIQFUJtLXQd",
        "outputId": "25520cb7-8d6c-4eba-9f50-0cc74aac3deb"
      },
      "outputs": [
        {
          "data": {
            "text/html": [
              "<div>\n",
              "<style scoped>\n",
              "    .dataframe tbody tr th:only-of-type {\n",
              "        vertical-align: middle;\n",
              "    }\n",
              "\n",
              "    .dataframe tbody tr th {\n",
              "        vertical-align: top;\n",
              "    }\n",
              "\n",
              "    .dataframe thead th {\n",
              "        text-align: right;\n",
              "    }\n",
              "</style>\n",
              "<table border=\"1\" class=\"dataframe\">\n",
              "  <thead>\n",
              "    <tr style=\"text-align: right;\">\n",
              "      <th></th>\n",
              "      <th>instant</th>\n",
              "      <th>dteday</th>\n",
              "      <th>season</th>\n",
              "      <th>yr</th>\n",
              "      <th>mnth</th>\n",
              "      <th>hr</th>\n",
              "      <th>holiday</th>\n",
              "      <th>weekday</th>\n",
              "      <th>workingday</th>\n",
              "      <th>weathersit</th>\n",
              "      <th>temp</th>\n",
              "      <th>atemp</th>\n",
              "      <th>hum</th>\n",
              "      <th>windspeed</th>\n",
              "      <th>casual</th>\n",
              "      <th>registered</th>\n",
              "      <th>cnt</th>\n",
              "    </tr>\n",
              "  </thead>\n",
              "  <tbody>\n",
              "    <tr>\n",
              "      <th>0</th>\n",
              "      <td>1</td>\n",
              "      <td>2011-01-01</td>\n",
              "      <td>Spring</td>\n",
              "      <td>0</td>\n",
              "      <td>1</td>\n",
              "      <td>0</td>\n",
              "      <td>Non-Holiday</td>\n",
              "      <td>6</td>\n",
              "      <td>Non-Working Day</td>\n",
              "      <td>Clear</td>\n",
              "      <td>0.24</td>\n",
              "      <td>0.2879</td>\n",
              "      <td>0.81</td>\n",
              "      <td>0.0</td>\n",
              "      <td>3</td>\n",
              "      <td>13</td>\n",
              "      <td>16</td>\n",
              "    </tr>\n",
              "    <tr>\n",
              "      <th>1</th>\n",
              "      <td>2</td>\n",
              "      <td>2011-01-01</td>\n",
              "      <td>Spring</td>\n",
              "      <td>0</td>\n",
              "      <td>1</td>\n",
              "      <td>1</td>\n",
              "      <td>Non-Holiday</td>\n",
              "      <td>6</td>\n",
              "      <td>Non-Working Day</td>\n",
              "      <td>Clear</td>\n",
              "      <td>0.22</td>\n",
              "      <td>0.2727</td>\n",
              "      <td>0.80</td>\n",
              "      <td>0.0</td>\n",
              "      <td>8</td>\n",
              "      <td>32</td>\n",
              "      <td>40</td>\n",
              "    </tr>\n",
              "    <tr>\n",
              "      <th>2</th>\n",
              "      <td>3</td>\n",
              "      <td>2011-01-01</td>\n",
              "      <td>Spring</td>\n",
              "      <td>0</td>\n",
              "      <td>1</td>\n",
              "      <td>2</td>\n",
              "      <td>Non-Holiday</td>\n",
              "      <td>6</td>\n",
              "      <td>Non-Working Day</td>\n",
              "      <td>Clear</td>\n",
              "      <td>0.22</td>\n",
              "      <td>0.2727</td>\n",
              "      <td>0.80</td>\n",
              "      <td>0.0</td>\n",
              "      <td>5</td>\n",
              "      <td>27</td>\n",
              "      <td>32</td>\n",
              "    </tr>\n",
              "    <tr>\n",
              "      <th>3</th>\n",
              "      <td>4</td>\n",
              "      <td>2011-01-01</td>\n",
              "      <td>Spring</td>\n",
              "      <td>0</td>\n",
              "      <td>1</td>\n",
              "      <td>3</td>\n",
              "      <td>Non-Holiday</td>\n",
              "      <td>6</td>\n",
              "      <td>Non-Working Day</td>\n",
              "      <td>Clear</td>\n",
              "      <td>0.24</td>\n",
              "      <td>0.2879</td>\n",
              "      <td>0.75</td>\n",
              "      <td>0.0</td>\n",
              "      <td>3</td>\n",
              "      <td>10</td>\n",
              "      <td>13</td>\n",
              "    </tr>\n",
              "    <tr>\n",
              "      <th>4</th>\n",
              "      <td>5</td>\n",
              "      <td>2011-01-01</td>\n",
              "      <td>Spring</td>\n",
              "      <td>0</td>\n",
              "      <td>1</td>\n",
              "      <td>4</td>\n",
              "      <td>Non-Holiday</td>\n",
              "      <td>6</td>\n",
              "      <td>Non-Working Day</td>\n",
              "      <td>Clear</td>\n",
              "      <td>0.24</td>\n",
              "      <td>0.2879</td>\n",
              "      <td>0.75</td>\n",
              "      <td>0.0</td>\n",
              "      <td>0</td>\n",
              "      <td>1</td>\n",
              "      <td>1</td>\n",
              "    </tr>\n",
              "  </tbody>\n",
              "</table>\n",
              "</div>"
            ],
            "text/plain": [
              "   instant      dteday  season  yr  mnth  hr      holiday  weekday  \\\n",
              "0        1  2011-01-01  Spring   0     1   0  Non-Holiday        6   \n",
              "1        2  2011-01-01  Spring   0     1   1  Non-Holiday        6   \n",
              "2        3  2011-01-01  Spring   0     1   2  Non-Holiday        6   \n",
              "3        4  2011-01-01  Spring   0     1   3  Non-Holiday        6   \n",
              "4        5  2011-01-01  Spring   0     1   4  Non-Holiday        6   \n",
              "\n",
              "        workingday weathersit  temp   atemp   hum  windspeed  casual  \\\n",
              "0  Non-Working Day      Clear  0.24  0.2879  0.81        0.0       3   \n",
              "1  Non-Working Day      Clear  0.22  0.2727  0.80        0.0       8   \n",
              "2  Non-Working Day      Clear  0.22  0.2727  0.80        0.0       5   \n",
              "3  Non-Working Day      Clear  0.24  0.2879  0.75        0.0       3   \n",
              "4  Non-Working Day      Clear  0.24  0.2879  0.75        0.0       0   \n",
              "\n",
              "   registered  cnt  \n",
              "0          13   16  \n",
              "1          32   40  \n",
              "2          27   32  \n",
              "3          10   13  \n",
              "4           1    1  "
            ]
          },
          "execution_count": 15,
          "metadata": {},
          "output_type": "execute_result"
        }
      ],
      "source": [
        "hourly_df.head()"
      ]
    },
    {
      "cell_type": "code",
      "execution_count": 16,
      "metadata": {
        "colab": {
          "base_uri": "https://localhost:8080/",
          "height": 206
        },
        "id": "urDvCV6_HzGp",
        "outputId": "248e49de-1e62-49a7-ce70-d05db16a45a0"
      },
      "outputs": [
        {
          "data": {
            "text/html": [
              "<div>\n",
              "<style scoped>\n",
              "    .dataframe tbody tr th:only-of-type {\n",
              "        vertical-align: middle;\n",
              "    }\n",
              "\n",
              "    .dataframe tbody tr th {\n",
              "        vertical-align: top;\n",
              "    }\n",
              "\n",
              "    .dataframe thead th {\n",
              "        text-align: right;\n",
              "    }\n",
              "</style>\n",
              "<table border=\"1\" class=\"dataframe\">\n",
              "  <thead>\n",
              "    <tr style=\"text-align: right;\">\n",
              "      <th></th>\n",
              "      <th>instant</th>\n",
              "      <th>dteday</th>\n",
              "      <th>season</th>\n",
              "      <th>yr</th>\n",
              "      <th>mnth</th>\n",
              "      <th>holiday</th>\n",
              "      <th>weekday</th>\n",
              "      <th>workingday</th>\n",
              "      <th>weathersit</th>\n",
              "      <th>temp</th>\n",
              "      <th>atemp</th>\n",
              "      <th>hum</th>\n",
              "      <th>windspeed</th>\n",
              "      <th>casual</th>\n",
              "      <th>registered</th>\n",
              "      <th>cnt</th>\n",
              "    </tr>\n",
              "  </thead>\n",
              "  <tbody>\n",
              "    <tr>\n",
              "      <th>0</th>\n",
              "      <td>1</td>\n",
              "      <td>2011-01-01</td>\n",
              "      <td>Spring</td>\n",
              "      <td>0</td>\n",
              "      <td>1</td>\n",
              "      <td>Non-Holiday</td>\n",
              "      <td>6</td>\n",
              "      <td>Non-Working Day</td>\n",
              "      <td>Mist + Cloudy</td>\n",
              "      <td>0.344167</td>\n",
              "      <td>0.363625</td>\n",
              "      <td>0.805833</td>\n",
              "      <td>0.160446</td>\n",
              "      <td>331</td>\n",
              "      <td>654</td>\n",
              "      <td>985</td>\n",
              "    </tr>\n",
              "    <tr>\n",
              "      <th>1</th>\n",
              "      <td>2</td>\n",
              "      <td>2011-01-02</td>\n",
              "      <td>Spring</td>\n",
              "      <td>0</td>\n",
              "      <td>1</td>\n",
              "      <td>Non-Holiday</td>\n",
              "      <td>0</td>\n",
              "      <td>Non-Working Day</td>\n",
              "      <td>Mist + Cloudy</td>\n",
              "      <td>0.363478</td>\n",
              "      <td>0.353739</td>\n",
              "      <td>0.696087</td>\n",
              "      <td>0.248539</td>\n",
              "      <td>131</td>\n",
              "      <td>670</td>\n",
              "      <td>801</td>\n",
              "    </tr>\n",
              "    <tr>\n",
              "      <th>2</th>\n",
              "      <td>3</td>\n",
              "      <td>2011-01-03</td>\n",
              "      <td>Spring</td>\n",
              "      <td>0</td>\n",
              "      <td>1</td>\n",
              "      <td>Non-Holiday</td>\n",
              "      <td>1</td>\n",
              "      <td>Working Day</td>\n",
              "      <td>Clear</td>\n",
              "      <td>0.196364</td>\n",
              "      <td>0.189405</td>\n",
              "      <td>0.437273</td>\n",
              "      <td>0.248309</td>\n",
              "      <td>120</td>\n",
              "      <td>1229</td>\n",
              "      <td>1349</td>\n",
              "    </tr>\n",
              "    <tr>\n",
              "      <th>3</th>\n",
              "      <td>4</td>\n",
              "      <td>2011-01-04</td>\n",
              "      <td>Spring</td>\n",
              "      <td>0</td>\n",
              "      <td>1</td>\n",
              "      <td>Non-Holiday</td>\n",
              "      <td>2</td>\n",
              "      <td>Working Day</td>\n",
              "      <td>Clear</td>\n",
              "      <td>0.200000</td>\n",
              "      <td>0.212122</td>\n",
              "      <td>0.590435</td>\n",
              "      <td>0.160296</td>\n",
              "      <td>108</td>\n",
              "      <td>1454</td>\n",
              "      <td>1562</td>\n",
              "    </tr>\n",
              "    <tr>\n",
              "      <th>4</th>\n",
              "      <td>5</td>\n",
              "      <td>2011-01-05</td>\n",
              "      <td>Spring</td>\n",
              "      <td>0</td>\n",
              "      <td>1</td>\n",
              "      <td>Non-Holiday</td>\n",
              "      <td>3</td>\n",
              "      <td>Working Day</td>\n",
              "      <td>Clear</td>\n",
              "      <td>0.226957</td>\n",
              "      <td>0.229270</td>\n",
              "      <td>0.436957</td>\n",
              "      <td>0.186900</td>\n",
              "      <td>82</td>\n",
              "      <td>1518</td>\n",
              "      <td>1600</td>\n",
              "    </tr>\n",
              "  </tbody>\n",
              "</table>\n",
              "</div>"
            ],
            "text/plain": [
              "   instant      dteday  season  yr  mnth      holiday  weekday  \\\n",
              "0        1  2011-01-01  Spring   0     1  Non-Holiday        6   \n",
              "1        2  2011-01-02  Spring   0     1  Non-Holiday        0   \n",
              "2        3  2011-01-03  Spring   0     1  Non-Holiday        1   \n",
              "3        4  2011-01-04  Spring   0     1  Non-Holiday        2   \n",
              "4        5  2011-01-05  Spring   0     1  Non-Holiday        3   \n",
              "\n",
              "        workingday     weathersit      temp     atemp       hum  windspeed  \\\n",
              "0  Non-Working Day  Mist + Cloudy  0.344167  0.363625  0.805833   0.160446   \n",
              "1  Non-Working Day  Mist + Cloudy  0.363478  0.353739  0.696087   0.248539   \n",
              "2      Working Day          Clear  0.196364  0.189405  0.437273   0.248309   \n",
              "3      Working Day          Clear  0.200000  0.212122  0.590435   0.160296   \n",
              "4      Working Day          Clear  0.226957  0.229270  0.436957   0.186900   \n",
              "\n",
              "   casual  registered   cnt  \n",
              "0     331         654   985  \n",
              "1     131         670   801  \n",
              "2     120        1229  1349  \n",
              "3     108        1454  1562  \n",
              "4      82        1518  1600  "
            ]
          },
          "execution_count": 16,
          "metadata": {},
          "output_type": "execute_result"
        }
      ],
      "source": [
        "daily_df.head()"
      ]
    },
    {
      "cell_type": "markdown",
      "metadata": {},
      "source": [
        "changing Dtype of 'dteday'"
      ]
    },
    {
      "cell_type": "code",
      "execution_count": 17,
      "metadata": {
        "colab": {
          "base_uri": "https://localhost:8080/"
        },
        "id": "FQe1UTGqHHgW",
        "outputId": "20556dfa-8067-4797-89f7-1e30dae280ba"
      },
      "outputs": [
        {
          "name": "stdout",
          "output_type": "stream",
          "text": [
            "<class 'pandas.core.series.Series'>\n",
            "RangeIndex: 731 entries, 0 to 730\n",
            "Series name: dteday\n",
            "Non-Null Count  Dtype \n",
            "--------------  ----- \n",
            "731 non-null    object\n",
            "dtypes: object(1)\n",
            "memory usage: 5.8+ KB\n"
          ]
        }
      ],
      "source": [
        "daily_df['dteday'].info()"
      ]
    },
    {
      "cell_type": "code",
      "execution_count": 18,
      "metadata": {
        "id": "e9CQCZjk8DC2"
      },
      "outputs": [],
      "source": [
        "daily_df['dteday'] = pd.to_datetime(daily_df['dteday'])\n",
        "hourly_df['dteday'] = pd.to_datetime(hourly_df['dteday'])\n",
        "unrushed_hourly_df['dteday'] = pd.to_datetime(unrushed_hourly_df['dteday'])"
      ]
    },
    {
      "cell_type": "code",
      "execution_count": 19,
      "metadata": {
        "colab": {
          "base_uri": "https://localhost:8080/"
        },
        "id": "VbeQOpBKHOlI",
        "outputId": "617acfe9-82d0-4a74-c513-b06021b490b7"
      },
      "outputs": [
        {
          "name": "stdout",
          "output_type": "stream",
          "text": [
            "<class 'pandas.core.series.Series'>\n",
            "RangeIndex: 731 entries, 0 to 730\n",
            "Series name: dteday\n",
            "Non-Null Count  Dtype         \n",
            "--------------  -----         \n",
            "731 non-null    datetime64[ns]\n",
            "dtypes: datetime64[ns](1)\n",
            "memory usage: 5.8 KB\n"
          ]
        }
      ],
      "source": [
        "daily_df['dteday'].info()"
      ]
    },
    {
      "cell_type": "code",
      "execution_count": 20,
      "metadata": {
        "id": "P511N0yKHpd6"
      },
      "outputs": [],
      "source": [
        "daily_df['day_of_week'] = daily_df['dteday'].dt.day_name()\n",
        "daily_df['month'] = daily_df['dteday'].dt.month_name()\n",
        "\n",
        "hourly_df['day_of_week'] = hourly_df['dteday'].dt.day_name()\n",
        "hourly_df['month'] = hourly_df['dteday'].dt.month_name()\n",
        "\n",
        "unrushed_hourly_df['day_of_week'] = unrushed_hourly_df['dteday'].dt.day_name()\n",
        "unrushed_hourly_df['month'] = unrushed_hourly_df['dteday'].dt.month_name()"
      ]
    },
    {
      "cell_type": "markdown",
      "metadata": {},
      "source": [
        "checking usage for every possible time"
      ]
    },
    {
      "cell_type": "code",
      "execution_count": 21,
      "metadata": {
        "colab": {
          "base_uri": "https://localhost:8080/"
        },
        "id": "YPRHMFbuLO-U",
        "outputId": "fd4d32d5-f56b-47a8-f96e-7ab3d13b45a2"
      },
      "outputs": [
        {
          "name": "stdout",
          "output_type": "stream",
          "text": [
            "Average bike rentals per hour:\n",
            " hr\n",
            "17    461.452055\n",
            "18    425.510989\n",
            "8     359.011004\n",
            "16    311.983562\n",
            "19    311.523352\n",
            "13    253.661180\n",
            "12    253.315934\n",
            "15    251.233196\n",
            "14    240.949246\n",
            "20    226.030220\n",
            "9     219.309491\n",
            "7     212.064649\n",
            "11    208.143054\n",
            "10    173.668501\n",
            "21    172.314560\n",
            "22    131.335165\n",
            "23     87.831044\n",
            "6      76.044138\n",
            "0      53.898072\n",
            "1      33.375691\n",
            "2      22.869930\n",
            "5      19.889819\n",
            "3      11.727403\n",
            "4       6.352941\n",
            "Name: cnt, dtype: float64\n"
          ]
        }
      ],
      "source": [
        "hourly_usage = hourly_df.groupby('hr')['cnt'].mean().sort_values(ascending=False)\n",
        "print(\"Average bike rentals per hour:\\n\", hourly_usage)"
      ]
    },
    {
      "cell_type": "code",
      "execution_count": 22,
      "metadata": {
        "colab": {
          "base_uri": "https://localhost:8080/"
        },
        "id": "rmtfA7MqH6Nh",
        "outputId": "cd99d89c-9553-4b08-c79e-b75d02dad0eb"
      },
      "outputs": [
        {
          "name": "stdout",
          "output_type": "stream",
          "text": [
            "Average bike rentals per month:\n",
            " month\n",
            "January      2176.338710\n",
            "February     2655.298246\n",
            "March        3692.258065\n",
            "April        4484.900000\n",
            "May          5349.774194\n",
            "June         5772.366667\n",
            "July         5563.677419\n",
            "August       5664.419355\n",
            "September    5766.516667\n",
            "October      5199.225806\n",
            "November     4247.183333\n",
            "December     3403.806452\n",
            "Name: cnt, dtype: float64\n"
          ]
        }
      ],
      "source": [
        "month_order = ['January', 'February', 'March', 'April', 'May', 'June', 'July', 'August', 'September', 'October', 'November', 'December']\n",
        "\n",
        "monthly_usage = daily_df.groupby('month')['cnt'].mean().reindex(month_order)\n",
        "print(\"Average bike rentals per month:\\n\", monthly_usage)"
      ]
    },
    {
      "cell_type": "code",
      "execution_count": 23,
      "metadata": {
        "colab": {
          "base_uri": "https://localhost:8080/"
        },
        "id": "j41_ljjLQ_6E",
        "outputId": "abc2e271-713e-4461-fd7e-bf5db99fe6e2"
      },
      "outputs": [
        {
          "name": "stdout",
          "output_type": "stream",
          "text": [
            "Average bike rentals on each season:\n",
            " season\n",
            "Fall      5644.303191\n",
            "Summer    4992.331522\n",
            "Winter    4728.162921\n",
            "Spring    2604.132597\n",
            "Name: cnt, dtype: float64\n"
          ]
        }
      ],
      "source": [
        "seasonal_usage = daily_df.groupby('season')['cnt'].mean().sort_values(ascending=False)\n",
        "print(\"Average bike rentals on each season:\\n\", seasonal_usage)"
      ]
    },
    {
      "cell_type": "code",
      "execution_count": 24,
      "metadata": {
        "colab": {
          "base_uri": "https://localhost:8080/"
        },
        "id": "JQJVYJRxRTWo",
        "outputId": "8b25d7fe-bb14-445e-9c01-5ce92ea46b1e"
      },
      "outputs": [
        {
          "name": "stdout",
          "output_type": "stream",
          "text": [
            "Average bike rentals on holidays:\n",
            " holiday\n",
            "Holiday        3735.000000\n",
            "Non-Holiday    4527.104225\n",
            "Name: cnt, dtype: float64\n"
          ]
        }
      ],
      "source": [
        "holiday_usage = daily_df.groupby('holiday')['cnt'].mean()\n",
        "print(\"Average bike rentals on holidays:\\n\", holiday_usage)"
      ]
    },
    {
      "cell_type": "code",
      "execution_count": 25,
      "metadata": {
        "colab": {
          "base_uri": "https://localhost:8080/"
        },
        "id": "arRxMMvhICoz",
        "outputId": "b83efaf1-06fc-4847-9bd3-27ae39952ac4"
      },
      "outputs": [
        {
          "name": "stdout",
          "output_type": "stream",
          "text": [
            "Average bike rentals on weekdays: 4496.600638977636\n",
            "Average bike rentals on weekends: 4550.542857142857\n"
          ]
        }
      ],
      "source": [
        "weekday_usage = daily_df[daily_df['weekday'] <= 5]['cnt'].mean()\n",
        "weekend_usage = daily_df[daily_df['weekday'] > 5]['cnt'].mean()\n",
        "print(f\"Average bike rentals on weekdays: {weekday_usage}\")\n",
        "print(f\"Average bike rentals on weekends: {weekend_usage}\")\n",
        "# more bike rentals on weekends by only a mere 54 rents"
      ]
    },
    {
      "cell_type": "code",
      "execution_count": 26,
      "metadata": {
        "colab": {
          "base_uri": "https://localhost:8080/"
        },
        "id": "AhkDCvCVSA1c",
        "outputId": "d30625c8-7412-481f-a397-59a29ca3ace4"
      },
      "outputs": [
        {
          "name": "stdout",
          "output_type": "stream",
          "text": [
            "Average bike rentals on workdays and non-workdays (both weekends and holidays):\n",
            " workingday\n",
            "Non-Working Day    4330.168831\n",
            "Working Day        4584.820000\n",
            "Name: cnt, dtype: float64\n"
          ]
        }
      ],
      "source": [
        "workingday_usage = daily_df.groupby('workingday')['cnt'].mean()\n",
        "print(\"Average bike rentals on workdays and non-workdays (both weekends and holidays):\\n\", workingday_usage)\n",
        "# more bike rentals on non-workdays, both weekends and holidays"
      ]
    },
    {
      "cell_type": "code",
      "execution_count": 27,
      "metadata": {
        "colab": {
          "base_uri": "https://localhost:8080/"
        },
        "id": "CPn4p7JHTBb8",
        "outputId": "7866b515-a2c4-4f5c-d487-83ad3f1684be"
      },
      "outputs": [
        {
          "name": "stdout",
          "output_type": "stream",
          "text": [
            "Average casual and registered pedestrian bike rentals:\n",
            " casual         848.176471\n",
            "registered    3656.172367\n",
            "dtype: float64\n"
          ]
        }
      ],
      "source": [
        "user_type_usage = daily_df[['casual', 'registered']].mean()\n",
        "print(\"Average casual and registered pedestrian bike rentals:\\n\", user_type_usage)"
      ]
    },
    {
      "cell_type": "code",
      "execution_count": 28,
      "metadata": {
        "colab": {
          "base_uri": "https://localhost:8080/"
        },
        "id": "n604abPEZahs",
        "outputId": "30e23e6e-a825-48ff-cea6-3dee34e616b6"
      },
      "outputs": [
        {
          "name": "stdout",
          "output_type": "stream",
          "text": [
            "Average bike rentals on each weather condition:\n",
            " weathersit\n",
            "Clear              4876.786177\n",
            "Mist + Cloudy      4035.862348\n",
            "Light Snow/Rain    1803.285714\n",
            "Name: cnt, dtype: float64\n"
          ]
        }
      ],
      "source": [
        "weather_conditions = daily_df.groupby('weathersit')['cnt'].mean().sort_values(ascending=False)\n",
        "print(\"Average bike rentals on each weather condition:\\n\", weather_conditions)"
      ]
    },
    {
      "cell_type": "code",
      "execution_count": 29,
      "metadata": {
        "colab": {
          "base_uri": "https://localhost:8080/"
        },
        "id": "CH1b9KYveYx1",
        "outputId": "ee55dc87-5ef6-4741-bd92-ddcf6d9d5492"
      },
      "outputs": [
        {
          "name": "stdout",
          "output_type": "stream",
          "text": [
            "Correlation matrix:\n",
            "                 cnt      temp     atemp       hum  windspeed\n",
            "cnt        1.000000  0.928387  0.936565  0.444681  -0.638056\n",
            "temp       0.928387  1.000000  0.999488  0.263719  -0.586586\n",
            "atemp      0.936565  0.999488  1.000000  0.273452  -0.586832\n",
            "hum        0.444681  0.263719  0.273452  1.000000  -0.654629\n",
            "windspeed -0.638056 -0.586586 -0.586832 -0.654629   1.000000\n"
          ]
        }
      ],
      "source": [
        "monthly_data = unrushed_hourly_df.groupby(unrushed_hourly_df['dteday'].dt.month).agg({\n",
        "    'cnt': 'sum',\n",
        "    'temp': 'mean',\n",
        "    'atemp': 'mean',\n",
        "    'hum': 'mean',\n",
        "    'windspeed': 'mean'\n",
        "}).reset_index()\n",
        "\n",
        "correlation_matrix = monthly_data[['cnt', 'temp', 'atemp', 'hum', 'windspeed']].corr()\n",
        "print(\"Correlation matrix:\\n\", correlation_matrix)"
      ]
    },
    {
      "cell_type": "markdown",
      "metadata": {
        "id": "zsyZjqak8DC2"
      },
      "source": [
        "## Visualization & Explanatory Analysis"
      ]
    },
    {
      "cell_type": "markdown",
      "metadata": {
        "id": "HZxOiQ6n8DC2"
      },
      "source": [
        "### Pertanyaan 1:"
      ]
    },
    {
      "cell_type": "code",
      "execution_count": 30,
      "metadata": {
        "colab": {
          "base_uri": "https://localhost:8080/",
          "height": 614
        },
        "id": "1swJUdAD8DC2",
        "outputId": "d00a1238-8e9a-454f-c9ac-4e32eb258a28"
      },
      "outputs": [
        {
          "data": {
            "image/png": "[encoded data removed]",
            "text/plain": [
              "<Figure size 1000x600 with 1 Axes>"
            ]
          },
          "metadata": {},
          "output_type": "display_data"
        }
      ],
      "source": [
        "# Monthly Usage Pattern\n",
        "plt.figure(figsize=(10, 6))\n",
        "sns.lineplot(x=monthly_usage.index, y=monthly_usage.values, marker='o')\n",
        "plt.title('Average Bike Rentals per Month')\n",
        "plt.xlabel('Month')\n",
        "plt.ylabel('Average Rentals')\n",
        "plt.xticks(rotation=45)\n",
        "plt.xticks(range(12), fontsize=12)\n",
        "plt.yticks(range(0,6000,500), fontsize=12)\n",
        "plt.grid(True)\n",
        "plt.ylim(bottom=0)\n",
        "plt.xlim(0,11)\n",
        "plt.show()\n",
        "# clearly there is a trend here..."
      ]
    },
    {
      "cell_type": "markdown",
      "metadata": {
        "id": "QnPD8MPqcvSS"
      },
      "source": [
        "* There are more bike rentals during the middle of the year, peaking between june and september"
      ]
    },
    {
      "cell_type": "code",
      "execution_count": 31,
      "metadata": {
        "colab": {
          "base_uri": "https://localhost:8080/",
          "height": 573
        },
        "id": "M_1DyCI6aQ8K",
        "outputId": "e13a51b9-ec8f-43c4-f688-2ce01a8b5f10"
      },
      "outputs": [
        {
          "data": {
            "image/png": "[encoded data removed]",
            "text/plain": [
              "<Figure size 1400x600 with 1 Axes>"
            ]
          },
          "metadata": {},
          "output_type": "display_data"
        }
      ],
      "source": [
        "# Usage Patter by Time of the Day\n",
        "plt.figure(figsize=(14, 6))\n",
        "sns.lineplot(x='hr', y='cnt', data=hourly_df, marker='o')\n",
        "plt.title('Average Bike Rentals by Time of Day', fontsize=18)\n",
        "plt.xlabel('Time of Day', fontsize=14)\n",
        "plt.ylabel('Average Rentals', fontsize=14)\n",
        "plt.xticks(range(24), fontsize=12)\n",
        "plt.yticks(range(0,500,50), fontsize=12)\n",
        "plt.ylim(bottom=0)\n",
        "plt.xlim(0, 23) \n",
        "plt.grid(True)\n",
        "\n",
        "plt.show()\n",
        "# active on mornings and peaks on rush hours (8, 17, 18)"
      ]
    },
    {
      "cell_type": "markdown",
      "metadata": {
        "id": "NE_X6tDhdEKt"
      },
      "source": [
        "* There are more bike rentals during the day, peaking at rush hours: 8, 17, 18"
      ]
    },
    {
      "cell_type": "code",
      "execution_count": 32,
      "metadata": {
        "colab": {
          "base_uri": "https://localhost:8080/",
          "height": 487
        },
        "id": "RnX3ihCsaRgU",
        "outputId": "cb5b45ef-3a62-406f-8abf-5d070af57f65"
      },
      "outputs": [
        {
          "data": {
            "image/png": "[encoded data removed]",
            "text/plain": [
              "<Figure size 1000x600 with 1 Axes>"
            ]
          },
          "metadata": {},
          "output_type": "display_data"
        }
      ],
      "source": [
        "plt.figure(figsize=(10, 6))\n",
        "sns.barplot(x=seasonal_usage.index, y=seasonal_usage.values, hue=seasonal_usage.index, palette='muted')\n",
        "plt.title('Average Bike Rentals by Season', fontsize=18)\n",
        "plt.xlabel('Season', fontsize=14)\n",
        "plt.ylabel('Average Rentals', fontsize=14)\n",
        "plt.ylim(0, seasonal_usage.values.max() + 100)\n",
        "plt.xticks(fontsize=12)\n",
        "plt.yticks(fontsize=12)\n",
        "plt.grid(axis='y', linestyle='--', alpha=0.7)\n",
        "plt.show()"
      ]
    },
    {
      "cell_type": "markdown",
      "metadata": {
        "id": "CuHlfYBTdUSN"
      },
      "source": [
        "* Pedestrians are less likely to use shared bikes during summer, winter, and significantly less in spring"
      ]
    },
    {
      "cell_type": "markdown",
      "metadata": {
        "id": "DgHI7CiU8DC2"
      },
      "source": [
        "### Pertanyaan 2:"
      ]
    },
    {
      "cell_type": "code",
      "execution_count": 33,
      "metadata": {
        "colab": {
          "base_uri": "https://localhost:8080/",
          "height": 699
        },
        "id": "DSG0FhbNd9XR",
        "outputId": "19727ae6-d6d8-40ab-baeb-82ce1230009e"
      },
      "outputs": [
        {
          "data": {
            "image/png": "[encoded data removed]",
            "text/plain": [
              "<Figure size 1000x800 with 2 Axes>"
            ]
          },
          "metadata": {},
          "output_type": "display_data"
        }
      ],
      "source": [
        "plt.figure(figsize=(10, 8))\n",
        "sns.heatmap(correlation_matrix, annot=True, cmap='coolwarm', fmt='.2f')\n",
        "plt.title('Correlation Matrix of Weather Features and Monthly Bike Rentals', fontsize=18)\n",
        "plt.tight_layout()\n",
        "\n",
        "plt.show()\n",
        "# temp and atemp is highly correlated to count and with a slight correlation to hum and windspeed"
      ]
    },
    {
      "cell_type": "markdown",
      "metadata": {
        "id": "33otwP07edz_"
      },
      "source": [
        "* one true indicator that pedestrians determine using a shared bike is the temperature especially on lower temperatures true by almost 100%\n",
        "* another less common indicator is the windspeeds, where its better to ride a shared bike during low windspeeds, true by 65%"
      ]
    },
    {
      "cell_type": "code",
      "execution_count": 34,
      "metadata": {
        "colab": {
          "base_uri": "https://localhost:8080/",
          "height": 487
        },
        "id": "ZFZBgv7haVTQ",
        "outputId": "ddd2f6a5-23fe-4a50-a2b7-50459034443c"
      },
      "outputs": [
        {
          "data": {
            "image/png": "[encoded data removed]",
            "text/plain": [
              "<Figure size 800x500 with 1 Axes>"
            ]
          },
          "metadata": {},
          "output_type": "display_data"
        }
      ],
      "source": [
        "plt.figure(figsize=(8, 5))\n",
        "sns.barplot(x=weather_conditions.index, y=weather_conditions.values, hue=weather_conditions.index, palette='muted')\n",
        "plt.title('Average Bike Rentals by Weather Condition', fontsize=18)\n",
        "plt.xlabel('Weather Condition', fontsize=15)\n",
        "plt.ylabel('Average Rentals', fontsize=15)\n",
        "plt.ylim(0, weather_conditions.values.max() + 500)\n",
        "plt.xticks(fontsize=12)\n",
        "plt.yticks(fontsize=12)\n",
        "plt.grid(axis='y', linestyle='--', alpha=0.7)\n",
        "plt.show()"
      ]
    },
    {
      "cell_type": "markdown",
      "metadata": {
        "id": "A7lW-I_QfeMZ"
      },
      "source": [
        "* light snow/rain could prevent users from wanting to use shared bikes, and possibly even more so if heavy rain ever occours when looking at the trend\n",
        "* mist and cloudy conditions also affects rental counts, though not by much"
      ]
    },
    {
      "cell_type": "code",
      "execution_count": 37,
      "metadata": {},
      "outputs": [
        {
          "data": {
            "image/png": "[encoded data removed]",
            "text/plain": [
              "<Figure size 800x500 with 1 Axes>"
            ]
          },
          "metadata": {},
          "output_type": "display_data"
        }
      ],
      "source": [
        "plt.figure(figsize=(8, 5))\n",
        "sns.barplot(x=user_type_usage.index, y=user_type_usage.values, hue=user_type_usage.index, palette='muted')\n",
        "plt.title('Average Bike Rentals by User Type', fontsize=18)\n",
        "plt.xlabel('Type of User', fontsize=15)\n",
        "plt.ylabel('Average Rentals', fontsize=15)\n",
        "plt.ylim(0, weather_conditions.values.max())\n",
        "plt.xticks(fontsize=12)\n",
        "plt.yticks(fontsize=12)\n",
        "plt.grid(axis='y', linestyle='--', alpha=0.7)\n",
        "plt.show()"
      ]
    },
    {
      "cell_type": "markdown",
      "metadata": {
        "id": "_WeHlCeX8DC2"
      },
      "source": [
        "## Conclusion"
      ]
    },
    {
      "cell_type": "markdown",
      "metadata": {
        "id": "ZTcyR48Y8DC2"
      },
      "source": [
        "- Answering to the first question: \"At what day of the year or time/type of day do pedestrians used shared bikes more often than not?\", pedestrians tend to use shared bikes more often during the warmer months of the year, particularly from late summer to early fall, with the highest usage in September. Daily usage patterns peak during typical morning and evening commuting hours, suggesting a significant use of bikes for work or school commutes. The seasonal and monthly patterns may be influenced by weather conditions, with less bike usage occurring during the colder, wetter months of the year.\n",
        "\n",
        "- Answering to the second question: \"What might be the cause of pedestrians using shared bikes?\", is that the primary cause of pedestrians using shared bikes appears to be related to favorable weather conditions. Warmer temperatures are highly conducive to increased bike rentals, as indicated by the strong positive correlation with temperature. Clear weather conditions also result in more bike usage, as seen by the higher averages compared to adverse weather conditions. However, pedestrians are less likely to use shared bikes during high winds and light snow or rain. The data suggests that apart from practical commuting needs, weather plays a crucial role in influencing the decision to use shared bikes. In addition to that, registered users tend to repetedly rent shared bikes due to their loyalty to use shared bikes, which could also mean that casual users will more often register than not possibly due to convinience."
      ]
    }
  ],
  "metadata": {
    "colab": {
      "collapsed_sections": [
        "H-z4QGlO8DC1",
        "h_Sh51Xy8DC1",
        "sXU2GBYu8DC1",
        "gp-Y6wU38DC1"
      ],
      "provenance": []
    },
    "kernelspec": {
      "display_name": "Python 3",
      "language": "python",
      "name": "python3"
    },
    "language_info": {
      "codemirror_mode": {
        "name": "ipython",
        "version": 3
      },
      "file_extension": ".py",
      "mimetype": "text/x-python",
      "name": "python",
      "nbconvert_exporter": "python",
      "pygments_lexer": "ipython3",
      "version": "3.12.2"
    },
    "orig_nbformat": 4,
    "vscode": {
      "interpreter": {
        "hash": "972b3bf27e332e87b5379f2791f6ef9dfc79c71018c370b0d7423235e20fe4d7"
      }
    }
  },
  "nbformat": 4,
  "nbformat_minor": 0
}
